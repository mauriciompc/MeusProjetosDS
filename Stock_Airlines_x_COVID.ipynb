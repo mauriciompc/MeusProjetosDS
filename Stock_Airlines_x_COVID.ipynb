{
  "nbformat": 4,
  "nbformat_minor": 0,
  "metadata": {
    "kernelspec": {
      "display_name": "Python 3",
      "language": "python",
      "name": "python3"
    },
    "language_info": {
      "codemirror_mode": {
        "name": "ipython",
        "version": 3
      },
      "file_extension": ".py",
      "mimetype": "text/x-python",
      "name": "python",
      "nbconvert_exporter": "python",
      "pygments_lexer": "ipython3",
      "version": "3.7.7"
    },
    "colab": {
      "provenance": [],
      "include_colab_link": true
    }
  },
  "cells": [
    {
      "cell_type": "markdown",
      "metadata": {
        "id": "view-in-github",
        "colab_type": "text"
      },
      "source": [
        "<a href=\"https://colab.research.google.com/github/mauriciompc/MeusProjetosDS/blob/master/Stock_Airlines_x_COVID.ipynb\" target=\"_parent\"><img src=\"https://colab.research.google.com/assets/colab-badge.svg\" alt=\"Open In Colab\"/></a>"
      ]
    },
    {
      "cell_type": "markdown",
      "metadata": {
        "id": "EeEWR85-z4TB"
      },
      "source": [
        "# **Análise dos Preço das Ações das Cias Aéreas Brasileiras na Pandemia COVID-19** "
      ]
    },
    {
      "cell_type": "markdown",
      "metadata": {
        "id": "tEC7MxW3Cdsl"
      },
      "source": [
        "<left><img src=\"https://www.melhoresdestinos.com.br/wp-content/uploads/2020/04/avioes-azul-gol-latam-capa2019-01.jpg\" height=260px></left> \n",
        "<right><img src=\"https://www.blogdovestibular.com/wp-content/uploads/2020/06/melhores-acoes-bolsa-de-valores-1200x675.jpg\" height=260px></right>"
      ]
    },
    {
      "cell_type": "markdown",
      "metadata": {
        "id": "9fFrAfIMz4TH"
      },
      "source": [
        "### O objetivo deste notebook é o de analisar o impacto que as três maiores Cias Áerea Brasileiras (Azul, Gol e Latam) sofreram no período inicial da pandemia do COVID-19 com o cancelamento dos voos e fechamento das fronteiras aéreas.\n",
        "\n",
        "### Para isso, vamos analisar a variação no valor das ações comercializadas na Bolsa de Valores de *New York* (NYSE) através da biblioteca **yfinance**, observando o movimento financeiro um pouco antes que as medidas de contenção da pandemia entrasse em vigor neste país (metade de março de 2020).\n",
        "\n",
        "---\n",
        "\n",
        "Este notebook faz parte dos meus estudos inciais em ciência de dados. Não tenho a pretensão de verificar se este é o momento, ou não, para comprar ações destas cias aérea. Alias, nem investidor eu sou! Também não pretendo influenciar ninguém neste sentido. Como eu trabalho com aviação, apenas quis fazer algo em relação a esta área."
      ]
    },
    {
      "cell_type": "code",
      "metadata": {
        "id": "F12CLrsH9K9A"
      },
      "source": [
        "# Instalando o yfinance\n",
        "!pip install yfinance --upgrade --no-cache-dir"
      ],
      "execution_count": null,
      "outputs": []
    },
    {
      "cell_type": "code",
      "metadata": {
        "id": "SL6QoTNHz4TK"
      },
      "source": [
        "# Importando a biblioteca yfinance depois da instalação. Bem simples de utilizar, assim como sua documentação.\n",
        "# As Açoes se referem à bolsa americana sendo, os valores em USD.\n",
        "import yfinance as yf\n",
        "import pandas as pd\n",
        "import matplotlib.pyplot as plt\n",
        "import seaborn as sns\n",
        "sns.set_style('darkgrid')"
      ],
      "execution_count": null,
      "outputs": []
    },
    {
      "cell_type": "markdown",
      "metadata": {
        "id": "nIDt66O-z4Ta"
      },
      "source": [
        "1. Importando as ações objeto do meu estudo pelo yfinance (apenas 2 linhas de código) e definindo o período desejado.\n",
        "   Maiores Informações sobre a biblioteca yfinace [clique aqui](https://pypi.org/project/yfinance/). Você também pode conferir este artigo do Ritvik Kharkar [clicando aqui](https://towardsdatascience.com/how-to-get-stock-data-using-python-c0de1df17e75)\n",
        "2. Optei pelas ações da Cias Aéreas Azul, Gol e Latam (LTM).\n",
        "3. Ações dia a dia (período = 1d mas há outras opções) no período de 01 de janeiro à 12 de agosto de 2020 (padrão americano yyyy-mm-dd)."
      ]
    },
    {
      "cell_type": "code",
      "metadata": {
        "id": "HRbbrx7wz4Td",
        "outputId": "e3426707-d21e-4f8e-b57a-74fd62d9b457",
        "colab": {
          "base_uri": "https://localhost:8080/"
        }
      },
      "source": [
        "#tickers = yf.Tickers('azul gol ltm')\n",
        "tickerdf = yf.download('azul gol ltm', start='2020-01-01', end='2020-08-13')\n",
        "#tickerdf = tickers.history(period='1d', start='2020-01-01', end='2020-08-13')\n",
        "tickerdf"
      ],
      "execution_count": null,
      "outputs": [
        {
          "output_type": "stream",
          "name": "stdout",
          "text": [
            "[**********************67%*******                ]  2 of 3 completed"
          ]
        },
        {
          "output_type": "stream",
          "name": "stderr",
          "text": [
            "Exception in thread Thread-27:\n",
            "Traceback (most recent call last):\n",
            "  File \"/usr/lib/python3.7/threading.py\", line 926, in _bootstrap_inner\n",
            "    self.run()\n",
            "  File \"/usr/lib/python3.7/threading.py\", line 870, in run\n",
            "    self._target(*self._args, **self._kwargs)\n",
            "  File \"/usr/local/lib/python3.7/dist-packages/multitasking/__init__.py\", line 104, in _run_via_pool\n",
            "    return callee(*args, **kwargs)\n",
            "  File \"/usr/local/lib/python3.7/dist-packages/yfinance/multi.py\", line 193, in _download_one_threaded\n",
            "    keepna, timeout)\n",
            "  File \"/usr/local/lib/python3.7/dist-packages/yfinance/multi.py\", line 210, in _download_one\n",
            "    timeout=timeout)\n",
            "  File \"/usr/local/lib/python3.7/dist-packages/yfinance/base.py\", line 148, in history\n",
            "    end = utils._parse_user_dt(end, self._get_ticker_tz())\n",
            "  File \"/usr/local/lib/python3.7/dist-packages/yfinance/base.py\", line 328, in _get_ticker_tz\n",
            "    tkr_tz = self.info[\"exchangeTimezoneName\"]\n",
            "KeyError: 'exchangeTimezoneName'\n",
            "\n"
          ]
        }
      ]
    },
    {
      "cell_type": "markdown",
      "metadata": {
        "id": "RDpysU8DHnwe"
      },
      "source": [
        "Após a importação dos dados, vemos que temos 155 linhas com 21 colunas. O dataframe possui 6 (seis) colunas (3 em _Dividends_ e 3 em _Stock Splits_) sem valores que não servirão para a condução das análises e por este morivo serão deletadas do dataframe.\n",
        "\n",
        "Serão utilizadas somente os valores das colunas _**Volume**_ e _**Close**_. As colunas _Open_, _High_, _Low_, _Dividends_ e _Stock Splits_ pois não serão utilizadas de acordo com o objetivo desta análise."
      ]
    },
    {
      "cell_type": "code",
      "metadata": {
        "id": "TvRzxXkuHnOf"
      },
      "source": [
        "# exluindo colunas Dividends e Stock Splits\n",
        "tickerdf.drop(['Open', 'High', 'Low','Dividends', 'Stock Splits'], axis=1, inplace = True)\n",
        "tickerdf.head()"
      ],
      "execution_count": null,
      "outputs": []
    },
    {
      "cell_type": "markdown",
      "metadata": {
        "id": "Oeqln1Amz4Tt"
      },
      "source": [
        "## Significado de cada coluna:\n",
        "\n",
        "*   **`Close:`** valor da ação no final do dia.\n",
        "*   **`High:`** o maior valor que a ação atingiu no dia.\n",
        "*   **`Low:`** o menor valor que a ação atingiu no dia.\n",
        "*   **`Open:`** valor da ação no início do dia.\n",
        "*   **`Volume:`**  quantas ações foram negociadas naquele dia.\n",
        "\n",
        "\n",
        "\n",
        "\n"
      ]
    },
    {
      "cell_type": "code",
      "metadata": {
        "id": "yM6sD0hPFS8A"
      },
      "source": [
        "# Plotando o gráfico referente ao preço de fechamento das ações\n",
        "fig,ax = plt.subplots(figsize=(16,6))\n",
        "plt.plot(tickerdf.index, tickerdf.Close);\n",
        "plt.title('Preço de Fechamento das Ações das Cias Aérea AZUL, GOL e LATAM', fontsize=20)\n",
        "plt.ylabel('Preço do Fechamento (USD)')\n",
        "plt.xlabel('Período Estudado')\n",
        "plt.legend(tickerdf.Close)\n",
        "plt.show()"
      ],
      "execution_count": null,
      "outputs": []
    },
    {
      "cell_type": "code",
      "metadata": {
        "id": "xUXPiCA2a8g-"
      },
      "source": [
        "# Plotando o gráfico referente ao volume de negociação das ações\n",
        "fig,ax = plt.subplots(figsize=(16,6))\n",
        "plt.plot(tickerdf.index, tickerdf.Volume);\n",
        "plt.title('Volume de Negociação das Ações das Cias Aérea AZUL, GOL e LATAM', fontsize = 20)\n",
        "plt.ylabel('Preço do Fechamento (USD)')\n",
        "plt.xlabel('Período Estudado')\n",
        "plt.legend(tickerdf.Volume)\n",
        "plt.show()"
      ],
      "execution_count": null,
      "outputs": []
    },
    {
      "cell_type": "markdown",
      "metadata": {
        "id": "gx9dBEOnmkfn"
      },
      "source": [
        "##**Análise dos Dados**\n",
        "\n",
        "*   Percebemos através dos gráficos que o preço das ações veem caindo desde o início de janeiro até o momento, mesmo apresentando um esboço de reação no final de março e início de junho.\n",
        "*   A maior queda no preço das ações ocorreu na metade do mês de maio que foi quando iniciou-se a quarentena decretada pelos governos dos estados de São Paulo e Rio de Janeiro e, por consequência, diminuição drástica (quase total) dos voos.\n",
        "*   As ações da Cia Azul foi a que mais desvalorizou no período estudado.\n",
        "*   As ações das Cia Latam foi a que apresentou maior volume de negociação a partir do final do mês de abril, porém, não teve aumento no valor das ações.\n",
        "*   No início de agosto houve um \"esboço\" de recuperação nos valores das ações.\n",
        "*   Com um impacto financeiro grande nos preços das ações e nos cancelamentos quase que na sua totalidade dos voos, como está as situações dos empregados? Bom, houve muitos demitidos por parte da Azul e Latam (é só olhar a quantidade de posts de despedidas [leia-se demissões] no Linkein). A Gol, através de acordos, conseguiu manter a maioria dos funcionários. \n",
        "\n",
        "\n",
        "Sempre ouvi dizer que as Cias Aéreas sempre se recuperam logo financeiramente depois de uma \"queda\", mas neste caso atípico em que estamos vivemos, como é possível se recuperar se vc é impedido de prestar o seu serviço por tanto tempo? As aeronaves podem estar paradas no chão mas precisam de manutenção. Bom, nem consigo falar das pessoas que perderam seus empregos ou, mantendo o emprego, tiveram seus salários reduzidos. Como será que eles estão vivendo nestes tempos? Bom, talvez isso seja assunto para uma pesquisa...\n",
        "\n",
        "\n",
        "Com a grande maioria dos voos cancelados por um bom período, há muita incerteza sobre a volta à normalidade das operações e, por consequência, sobre a retomada financeira. Acredita-se que logo (até o fim do ano) teremos os voos regionais tendendo a voltar a sua normalidade mas o mesmo talvez não possa ser dito sobre os voos internacionais, pois depende da política de cada país. \n",
        "\n",
        "\n",
        "Temos ainda que considerar a recuperação econômica e a mudança cultural que as empresas sofreram (muitas delas forçadas) por conta do isolamento. Houve uma mudança na relação de trabalho, principalmente na questão do trabalho presencial x remoto, e hoje o _`home office`_ é uma realidade, e que deu certo, para muitas empresas. "
      ]
    }
  ]
}