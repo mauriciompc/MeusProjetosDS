{
  "cells": [
    {
      "cell_type": "markdown",
      "metadata": {
        "id": "view-in-github",
        "colab_type": "text"
      },
      "source": [
        "<a href=\"https://colab.research.google.com/github/MauricioCosta-Psico/MeusProjetosDS/blob/master/MySpotifyData2021_Hist%C3%B3rico.ipynb\" target=\"_parent\"><img src=\"https://colab.research.google.com/assets/colab-badge.svg\" alt=\"Open In Colab\"/></a>"
      ]
    },
    {
      "cell_type": "markdown",
      "source": [
        "# **Análise dos Meus Dados no Spotify de 2021**\n",
        "\n",
        "<center><img src=\"data:image/png;base64,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\" height=80px>"
      ],
      "metadata": {
        "id": "Zlkm5vDIhT0k"
      },
      "id": "Zlkm5vDIhT0k"
    },
    {
      "cell_type": "markdown",
      "source": [
        "Como sou apaixonado por música 🤘, neste notebook eu vou usar os meus dados do ***Spotify*** do ano de 2021 para fazer algumas análises sobre como eu estou consumindo música nesta plataforma.\n",
        "\n",
        "Caso você queira conhecer a politica de privacidade do spotify em relação aos seus dados, é só [clicar aqui](https://www.spotify.com/br/legal/privacy-policy/#:~:text=Solicitar%20acesso%20aos%20dados%20pessoais,como%20pedir%20informa%C3%A7%C3%B5es%20adicionais%3B%20ou). Neste link também explica como solicitar osseus dados, que é dentro da sua conta acessada pela internet (não é possível solicitar esses dados no app)."
      ],
      "metadata": {
        "id": "pWX40UP0jc-7"
      },
      "id": "pWX40UP0jc-7"
    },
    {
      "cell_type": "markdown",
      "source": [
        "Vamos começar importanto os arquivos do histórico que é enviado por email após a solicitação  e que está em fomato json. Por algum motivo o meu histórico veio em 2 arquivos separados, então temos que concatenar os arquivos para não perder nenhum dado!"
      ],
      "metadata": {
        "id": "Dos1DlE8kaaM"
      },
      "id": "Dos1DlE8kaaM"
    },
    {
      "cell_type": "code",
      "execution_count": null,
      "id": "a2698acf",
      "metadata": {
        "colab": {
          "base_uri": "https://localhost:8080/",
          "height": 424
        },
        "id": "a2698acf",
        "outputId": "252e3e19-0248-4fd1-c3da-4cf08cd0a803"
      },
      "outputs": [
        {
          "output_type": "execute_result",
          "data": {
            "text/plain": [
              "                endTime         artistName                          trackName  \\\n",
              "0      2021-01-08 22:13      Black Sabbath    Heaven and Hell - 2009 Remaster   \n",
              "1      2021-01-26 20:25          Van Halen    Hot for Teacher - 2015 Remaster   \n",
              "2      2021-01-27 17:07             Jinjer                             Pisces   \n",
              "3      2021-01-27 18:49             Jinjer                             Pisces   \n",
              "4      2021-01-27 18:55             Jinjer                  Teacher, Teacher!   \n",
              "...                 ...                ...                                ...   \n",
              "10548  2022-01-26 03:12  Avenged Sevenfold                   Hail to the King   \n",
              "10549  2022-01-26 03:12           Slipknot                       All Out Life   \n",
              "10550  2022-01-26 03:12    Alice In Chains                   The One You Know   \n",
              "10551  2022-01-26 03:15         Papa Roach                     Kill The Noise   \n",
              "10552  2022-01-27 16:11     Sonata Arctica  The Rest Of The Sun Belongs To Me   \n",
              "\n",
              "       msPlayed  \n",
              "0          2120  \n",
              "1           472  \n",
              "2         65663  \n",
              "3        305571  \n",
              "4        351642  \n",
              "...         ...  \n",
              "10548      2480  \n",
              "10549     38250  \n",
              "10550    288990  \n",
              "10551    133770  \n",
              "10552     49443  \n",
              "\n",
              "[10553 rows x 4 columns]"
            ],
            "text/html": [
              "\n",
              "  <div id=\"df-f6ea37d8-b80f-4923-bfa4-effa56d45792\">\n",
              "    <div class=\"colab-df-container\">\n",
              "      <div>\n",
              "<style scoped>\n",
              "    .dataframe tbody tr th:only-of-type {\n",
              "        vertical-align: middle;\n",
              "    }\n",
              "\n",
              "    .dataframe tbody tr th {\n",
              "        vertical-align: top;\n",
              "    }\n",
              "\n",
              "    .dataframe thead th {\n",
              "        text-align: right;\n",
              "    }\n",
              "</style>\n",
              "<table border=\"1\" class=\"dataframe\">\n",
              "  <thead>\n",
              "    <tr style=\"text-align: right;\">\n",
              "      <th></th>\n",
              "      <th>endTime</th>\n",
              "      <th>artistName</th>\n",
              "      <th>trackName</th>\n",
              "      <th>msPlayed</th>\n",
              "    </tr>\n",
              "  </thead>\n",
              "  <tbody>\n",
              "    <tr>\n",
              "      <th>0</th>\n",
              "      <td>2021-01-08 22:13</td>\n",
              "      <td>Black Sabbath</td>\n",
              "      <td>Heaven and Hell - 2009 Remaster</td>\n",
              "      <td>2120</td>\n",
              "    </tr>\n",
              "    <tr>\n",
              "      <th>1</th>\n",
              "      <td>2021-01-26 20:25</td>\n",
              "      <td>Van Halen</td>\n",
              "      <td>Hot for Teacher - 2015 Remaster</td>\n",
              "      <td>472</td>\n",
              "    </tr>\n",
              "    <tr>\n",
              "      <th>2</th>\n",
              "      <td>2021-01-27 17:07</td>\n",
              "      <td>Jinjer</td>\n",
              "      <td>Pisces</td>\n",
              "      <td>65663</td>\n",
              "    </tr>\n",
              "    <tr>\n",
              "      <th>3</th>\n",
              "      <td>2021-01-27 18:49</td>\n",
              "      <td>Jinjer</td>\n",
              "      <td>Pisces</td>\n",
              "      <td>305571</td>\n",
              "    </tr>\n",
              "    <tr>\n",
              "      <th>4</th>\n",
              "      <td>2021-01-27 18:55</td>\n",
              "      <td>Jinjer</td>\n",
              "      <td>Teacher, Teacher!</td>\n",
              "      <td>351642</td>\n",
              "    </tr>\n",
              "    <tr>\n",
              "      <th>...</th>\n",
              "      <td>...</td>\n",
              "      <td>...</td>\n",
              "      <td>...</td>\n",
              "      <td>...</td>\n",
              "    </tr>\n",
              "    <tr>\n",
              "      <th>10548</th>\n",
              "      <td>2022-01-26 03:12</td>\n",
              "      <td>Avenged Sevenfold</td>\n",
              "      <td>Hail to the King</td>\n",
              "      <td>2480</td>\n",
              "    </tr>\n",
              "    <tr>\n",
              "      <th>10549</th>\n",
              "      <td>2022-01-26 03:12</td>\n",
              "      <td>Slipknot</td>\n",
              "      <td>All Out Life</td>\n",
              "      <td>38250</td>\n",
              "    </tr>\n",
              "    <tr>\n",
              "      <th>10550</th>\n",
              "      <td>2022-01-26 03:12</td>\n",
              "      <td>Alice In Chains</td>\n",
              "      <td>The One You Know</td>\n",
              "      <td>288990</td>\n",
              "    </tr>\n",
              "    <tr>\n",
              "      <th>10551</th>\n",
              "      <td>2022-01-26 03:15</td>\n",
              "      <td>Papa Roach</td>\n",
              "      <td>Kill The Noise</td>\n",
              "      <td>133770</td>\n",
              "    </tr>\n",
              "    <tr>\n",
              "      <th>10552</th>\n",
              "      <td>2022-01-27 16:11</td>\n",
              "      <td>Sonata Arctica</td>\n",
              "      <td>The Rest Of The Sun Belongs To Me</td>\n",
              "      <td>49443</td>\n",
              "    </tr>\n",
              "  </tbody>\n",
              "</table>\n",
              "<p>10553 rows × 4 columns</p>\n",
              "</div>\n",
              "      <button class=\"colab-df-convert\" onclick=\"convertToInteractive('df-f6ea37d8-b80f-4923-bfa4-effa56d45792')\"\n",
              "              title=\"Convert this dataframe to an interactive table.\"\n",
              "              style=\"display:none;\">\n",
              "        \n",
              "  <svg xmlns=\"http://www.w3.org/2000/svg\" height=\"24px\"viewBox=\"0 0 24 24\"\n",
              "       width=\"24px\">\n",
              "    <path d=\"M0 0h24v24H0V0z\" fill=\"none\"/>\n",
              "    <path d=\"M18.56 5.44l.94 2.06.94-2.06 2.06-.94-2.06-.94-.94-2.06-.94 2.06-2.06.94zm-11 1L8.5 8.5l.94-2.06 2.06-.94-2.06-.94L8.5 2.5l-.94 2.06-2.06.94zm10 10l.94 2.06.94-2.06 2.06-.94-2.06-.94-.94-2.06-.94 2.06-2.06.94z\"/><path d=\"M17.41 7.96l-1.37-1.37c-.4-.4-.92-.59-1.43-.59-.52 0-1.04.2-1.43.59L10.3 9.45l-7.72 7.72c-.78.78-.78 2.05 0 2.83L4 21.41c.39.39.9.59 1.41.59.51 0 1.02-.2 1.41-.59l7.78-7.78 2.81-2.81c.8-.78.8-2.07 0-2.86zM5.41 20L4 18.59l7.72-7.72 1.47 1.35L5.41 20z\"/>\n",
              "  </svg>\n",
              "      </button>\n",
              "      \n",
              "  <style>\n",
              "    .colab-df-container {\n",
              "      display:flex;\n",
              "      flex-wrap:wrap;\n",
              "      gap: 12px;\n",
              "    }\n",
              "\n",
              "    .colab-df-convert {\n",
              "      background-color: #E8F0FE;\n",
              "      border: none;\n",
              "      border-radius: 50%;\n",
              "      cursor: pointer;\n",
              "      display: none;\n",
              "      fill: #1967D2;\n",
              "      height: 32px;\n",
              "      padding: 0 0 0 0;\n",
              "      width: 32px;\n",
              "    }\n",
              "\n",
              "    .colab-df-convert:hover {\n",
              "      background-color: #E2EBFA;\n",
              "      box-shadow: 0px 1px 2px rgba(60, 64, 67, 0.3), 0px 1px 3px 1px rgba(60, 64, 67, 0.15);\n",
              "      fill: #174EA6;\n",
              "    }\n",
              "\n",
              "    [theme=dark] .colab-df-convert {\n",
              "      background-color: #3B4455;\n",
              "      fill: #D2E3FC;\n",
              "    }\n",
              "\n",
              "    [theme=dark] .colab-df-convert:hover {\n",
              "      background-color: #434B5C;\n",
              "      box-shadow: 0px 1px 3px 1px rgba(0, 0, 0, 0.15);\n",
              "      filter: drop-shadow(0px 1px 2px rgba(0, 0, 0, 0.3));\n",
              "      fill: #FFFFFF;\n",
              "    }\n",
              "  </style>\n",
              "\n",
              "      <script>\n",
              "        const buttonEl =\n",
              "          document.querySelector('#df-f6ea37d8-b80f-4923-bfa4-effa56d45792 button.colab-df-convert');\n",
              "        buttonEl.style.display =\n",
              "          google.colab.kernel.accessAllowed ? 'block' : 'none';\n",
              "\n",
              "        async function convertToInteractive(key) {\n",
              "          const element = document.querySelector('#df-f6ea37d8-b80f-4923-bfa4-effa56d45792');\n",
              "          const dataTable =\n",
              "            await google.colab.kernel.invokeFunction('convertToInteractive',\n",
              "                                                     [key], {});\n",
              "          if (!dataTable) return;\n",
              "\n",
              "          const docLinkHtml = 'Like what you see? Visit the ' +\n",
              "            '<a target=\"_blank\" href=https://colab.research.google.com/notebooks/data_table.ipynb>data table notebook</a>'\n",
              "            + ' to learn more about interactive tables.';\n",
              "          element.innerHTML = '';\n",
              "          dataTable['output_type'] = 'display_data';\n",
              "          await google.colab.output.renderOutput(dataTable, element);\n",
              "          const docLink = document.createElement('div');\n",
              "          docLink.innerHTML = docLinkHtml;\n",
              "          element.appendChild(docLink);\n",
              "        }\n",
              "      </script>\n",
              "    </div>\n",
              "  </div>\n",
              "  "
            ]
          },
          "metadata": {},
          "execution_count": 1
        }
      ],
      "source": [
        "# Importando os arquivos, em formato json, que no caso estão dividos em 2 (não sei o pq mas veio assim). \n",
        "# Para isso, usamos a função concat para juntar os arquivos ignorando o index.\n",
        "import pandas as pd\n",
        "import datetime as dt\n",
        "df1 = pd.read_json(\"/content/drive/MyDrive/MeusProjetosDataScience/MySpotifyData2021/StreamingHistory0.json\")\n",
        "df2 = pd.read_json(\"/content/drive/MyDrive/MeusProjetosDataScience/MySpotifyData2021/StreamingHistory1.json\")\n",
        "data = pd.concat([df1, df2], ignore_index = True) \n",
        "data"
      ]
    },
    {
      "cell_type": "markdown",
      "source": [
        "Bom, aqui vemos que temos apenas 4 colunas no arquivo e 10553 linhas:\n",
        "\n",
        "Cabeçalho | Descrição\n",
        ":--- | :---\n",
        "endTime | data e horário da execução da música\n",
        "artistName | Nome da Banda ou Artista\n",
        "trackName | Nome da música\n",
        "msPlayed | Tempo de execução da música em segundos\n",
        "\n",
        "Percebemos também que temos dados do ano de 2022 também. Logo vamos filtrar o dataset para ficarmos apenas com dados do ano de 2021 o que vai ocasionar uma diminuição no número de linhas."
      ],
      "metadata": {
        "id": "V0ZmQdaKkytq"
      },
      "id": "V0ZmQdaKkytq"
    },
    {
      "cell_type": "code",
      "execution_count": null,
      "id": "535273af",
      "metadata": {
        "scrolled": true,
        "colab": {
          "base_uri": "https://localhost:8080/"
        },
        "id": "535273af",
        "outputId": "3f6be1de-cb43-48b4-823e-ae32ea1e8df5"
      },
      "outputs": [
        {
          "output_type": "stream",
          "name": "stdout",
          "text": [
            "<class 'pandas.core.frame.DataFrame'>\n",
            "RangeIndex: 10553 entries, 0 to 10552\n",
            "Data columns (total 4 columns):\n",
            " #   Column      Non-Null Count  Dtype \n",
            "---  ------      --------------  ----- \n",
            " 0   endTime     10553 non-null  object\n",
            " 1   artistName  10553 non-null  object\n",
            " 2   trackName   10553 non-null  object\n",
            " 3   msPlayed    10553 non-null  int64 \n",
            "dtypes: int64(1), object(3)\n",
            "memory usage: 329.9+ KB\n"
          ]
        }
      ],
      "source": [
        "data.info()"
      ]
    },
    {
      "cell_type": "markdown",
      "source": [
        "A coluna **endTime** não está no formato datetime, então vamos converter os dados desta coluna com a função *datetime*."
      ],
      "metadata": {
        "id": "uZZ-tZ13mnWK"
      },
      "id": "uZZ-tZ13mnWK"
    },
    {
      "cell_type": "code",
      "execution_count": null,
      "id": "a9b52f20",
      "metadata": {
        "scrolled": true,
        "colab": {
          "base_uri": "https://localhost:8080/"
        },
        "id": "a9b52f20",
        "outputId": "b1f95368-6722-4805-84a1-581124f2e1a2"
      },
      "outputs": [
        {
          "output_type": "stream",
          "name": "stdout",
          "text": [
            "<class 'pandas.core.frame.DataFrame'>\n",
            "RangeIndex: 10553 entries, 0 to 10552\n",
            "Data columns (total 4 columns):\n",
            " #   Column      Non-Null Count  Dtype         \n",
            "---  ------      --------------  -----         \n",
            " 0   endTime     10553 non-null  datetime64[ns]\n",
            " 1   artistName  10553 non-null  object        \n",
            " 2   trackName   10553 non-null  object        \n",
            " 3   msPlayed    10553 non-null  int64         \n",
            "dtypes: datetime64[ns](1), int64(1), object(2)\n",
            "memory usage: 329.9+ KB\n"
          ]
        }
      ],
      "source": [
        "# modificando o tipo de dados da coluna endTime para datetime\n",
        "data[\"endTime\"] = pd.to_datetime(data[\"endTime\"])\n",
        "data.info()"
      ]
    },
    {
      "cell_type": "markdown",
      "source": [
        "Transformação da coluna concluída com sucesso!\n",
        "\n",
        "Agora vamos filtrar o dataset para que tenhamos dados somente dados do ano de 2021. "
      ],
      "metadata": {
        "id": "rKcJ-AOIm8dY"
      },
      "id": "rKcJ-AOIm8dY"
    },
    {
      "cell_type": "code",
      "execution_count": null,
      "id": "13be1443",
      "metadata": {
        "scrolled": true,
        "colab": {
          "base_uri": "https://localhost:8080/",
          "height": 424
        },
        "id": "13be1443",
        "outputId": "97bc1f53-53f7-4e0f-bdea-2950488f58f1"
      },
      "outputs": [
        {
          "output_type": "execute_result",
          "data": {
            "text/plain": [
              "                 endTime     artistName                        trackName  \\\n",
              "0    2021-01-08 22:13:00  Black Sabbath  Heaven and Hell - 2009 Remaster   \n",
              "1    2021-01-26 20:25:00      Van Halen  Hot for Teacher - 2015 Remaster   \n",
              "2    2021-01-27 17:07:00         Jinjer                           Pisces   \n",
              "3    2021-01-27 18:49:00         Jinjer                           Pisces   \n",
              "4    2021-01-27 18:55:00         Jinjer                Teacher, Teacher!   \n",
              "...                  ...            ...                              ...   \n",
              "9445 2021-12-29 22:38:00          ANGRA                          Insania   \n",
              "9446 2021-12-29 22:43:00          ANGRA            The Bottom of My Soul   \n",
              "9447 2021-12-29 22:47:00          ANGRA                        War Horns   \n",
              "9448 2021-12-29 22:53:00          ANGRA                          Caveman   \n",
              "9449 2021-12-30 03:03:00          ANGRA                     Magic Mirror   \n",
              "\n",
              "      msPlayed  \n",
              "0         2120  \n",
              "1          472  \n",
              "2        65663  \n",
              "3       305571  \n",
              "4       351642  \n",
              "...        ...  \n",
              "9445    331800  \n",
              "9446    259330  \n",
              "9447    283100  \n",
              "9448    353340  \n",
              "9449     55880  \n",
              "\n",
              "[9450 rows x 4 columns]"
            ],
            "text/html": [
              "\n",
              "  <div id=\"df-77c4828b-7c10-4f3f-82a4-67a98c40b6ae\">\n",
              "    <div class=\"colab-df-container\">\n",
              "      <div>\n",
              "<style scoped>\n",
              "    .dataframe tbody tr th:only-of-type {\n",
              "        vertical-align: middle;\n",
              "    }\n",
              "\n",
              "    .dataframe tbody tr th {\n",
              "        vertical-align: top;\n",
              "    }\n",
              "\n",
              "    .dataframe thead th {\n",
              "        text-align: right;\n",
              "    }\n",
              "</style>\n",
              "<table border=\"1\" class=\"dataframe\">\n",
              "  <thead>\n",
              "    <tr style=\"text-align: right;\">\n",
              "      <th></th>\n",
              "      <th>endTime</th>\n",
              "      <th>artistName</th>\n",
              "      <th>trackName</th>\n",
              "      <th>msPlayed</th>\n",
              "    </tr>\n",
              "  </thead>\n",
              "  <tbody>\n",
              "    <tr>\n",
              "      <th>0</th>\n",
              "      <td>2021-01-08 22:13:00</td>\n",
              "      <td>Black Sabbath</td>\n",
              "      <td>Heaven and Hell - 2009 Remaster</td>\n",
              "      <td>2120</td>\n",
              "    </tr>\n",
              "    <tr>\n",
              "      <th>1</th>\n",
              "      <td>2021-01-26 20:25:00</td>\n",
              "      <td>Van Halen</td>\n",
              "      <td>Hot for Teacher - 2015 Remaster</td>\n",
              "      <td>472</td>\n",
              "    </tr>\n",
              "    <tr>\n",
              "      <th>2</th>\n",
              "      <td>2021-01-27 17:07:00</td>\n",
              "      <td>Jinjer</td>\n",
              "      <td>Pisces</td>\n",
              "      <td>65663</td>\n",
              "    </tr>\n",
              "    <tr>\n",
              "      <th>3</th>\n",
              "      <td>2021-01-27 18:49:00</td>\n",
              "      <td>Jinjer</td>\n",
              "      <td>Pisces</td>\n",
              "      <td>305571</td>\n",
              "    </tr>\n",
              "    <tr>\n",
              "      <th>4</th>\n",
              "      <td>2021-01-27 18:55:00</td>\n",
              "      <td>Jinjer</td>\n",
              "      <td>Teacher, Teacher!</td>\n",
              "      <td>351642</td>\n",
              "    </tr>\n",
              "    <tr>\n",
              "      <th>...</th>\n",
              "      <td>...</td>\n",
              "      <td>...</td>\n",
              "      <td>...</td>\n",
              "      <td>...</td>\n",
              "    </tr>\n",
              "    <tr>\n",
              "      <th>9445</th>\n",
              "      <td>2021-12-29 22:38:00</td>\n",
              "      <td>ANGRA</td>\n",
              "      <td>Insania</td>\n",
              "      <td>331800</td>\n",
              "    </tr>\n",
              "    <tr>\n",
              "      <th>9446</th>\n",
              "      <td>2021-12-29 22:43:00</td>\n",
              "      <td>ANGRA</td>\n",
              "      <td>The Bottom of My Soul</td>\n",
              "      <td>259330</td>\n",
              "    </tr>\n",
              "    <tr>\n",
              "      <th>9447</th>\n",
              "      <td>2021-12-29 22:47:00</td>\n",
              "      <td>ANGRA</td>\n",
              "      <td>War Horns</td>\n",
              "      <td>283100</td>\n",
              "    </tr>\n",
              "    <tr>\n",
              "      <th>9448</th>\n",
              "      <td>2021-12-29 22:53:00</td>\n",
              "      <td>ANGRA</td>\n",
              "      <td>Caveman</td>\n",
              "      <td>353340</td>\n",
              "    </tr>\n",
              "    <tr>\n",
              "      <th>9449</th>\n",
              "      <td>2021-12-30 03:03:00</td>\n",
              "      <td>ANGRA</td>\n",
              "      <td>Magic Mirror</td>\n",
              "      <td>55880</td>\n",
              "    </tr>\n",
              "  </tbody>\n",
              "</table>\n",
              "<p>9450 rows × 4 columns</p>\n",
              "</div>\n",
              "      <button class=\"colab-df-convert\" onclick=\"convertToInteractive('df-77c4828b-7c10-4f3f-82a4-67a98c40b6ae')\"\n",
              "              title=\"Convert this dataframe to an interactive table.\"\n",
              "              style=\"display:none;\">\n",
              "        \n",
              "  <svg xmlns=\"http://www.w3.org/2000/svg\" height=\"24px\"viewBox=\"0 0 24 24\"\n",
              "       width=\"24px\">\n",
              "    <path d=\"M0 0h24v24H0V0z\" fill=\"none\"/>\n",
              "    <path d=\"M18.56 5.44l.94 2.06.94-2.06 2.06-.94-2.06-.94-.94-2.06-.94 2.06-2.06.94zm-11 1L8.5 8.5l.94-2.06 2.06-.94-2.06-.94L8.5 2.5l-.94 2.06-2.06.94zm10 10l.94 2.06.94-2.06 2.06-.94-2.06-.94-.94-2.06-.94 2.06-2.06.94z\"/><path d=\"M17.41 7.96l-1.37-1.37c-.4-.4-.92-.59-1.43-.59-.52 0-1.04.2-1.43.59L10.3 9.45l-7.72 7.72c-.78.78-.78 2.05 0 2.83L4 21.41c.39.39.9.59 1.41.59.51 0 1.02-.2 1.41-.59l7.78-7.78 2.81-2.81c.8-.78.8-2.07 0-2.86zM5.41 20L4 18.59l7.72-7.72 1.47 1.35L5.41 20z\"/>\n",
              "  </svg>\n",
              "      </button>\n",
              "      \n",
              "  <style>\n",
              "    .colab-df-container {\n",
              "      display:flex;\n",
              "      flex-wrap:wrap;\n",
              "      gap: 12px;\n",
              "    }\n",
              "\n",
              "    .colab-df-convert {\n",
              "      background-color: #E8F0FE;\n",
              "      border: none;\n",
              "      border-radius: 50%;\n",
              "      cursor: pointer;\n",
              "      display: none;\n",
              "      fill: #1967D2;\n",
              "      height: 32px;\n",
              "      padding: 0 0 0 0;\n",
              "      width: 32px;\n",
              "    }\n",
              "\n",
              "    .colab-df-convert:hover {\n",
              "      background-color: #E2EBFA;\n",
              "      box-shadow: 0px 1px 2px rgba(60, 64, 67, 0.3), 0px 1px 3px 1px rgba(60, 64, 67, 0.15);\n",
              "      fill: #174EA6;\n",
              "    }\n",
              "\n",
              "    [theme=dark] .colab-df-convert {\n",
              "      background-color: #3B4455;\n",
              "      fill: #D2E3FC;\n",
              "    }\n",
              "\n",
              "    [theme=dark] .colab-df-convert:hover {\n",
              "      background-color: #434B5C;\n",
              "      box-shadow: 0px 1px 3px 1px rgba(0, 0, 0, 0.15);\n",
              "      filter: drop-shadow(0px 1px 2px rgba(0, 0, 0, 0.3));\n",
              "      fill: #FFFFFF;\n",
              "    }\n",
              "  </style>\n",
              "\n",
              "      <script>\n",
              "        const buttonEl =\n",
              "          document.querySelector('#df-77c4828b-7c10-4f3f-82a4-67a98c40b6ae button.colab-df-convert');\n",
              "        buttonEl.style.display =\n",
              "          google.colab.kernel.accessAllowed ? 'block' : 'none';\n",
              "\n",
              "        async function convertToInteractive(key) {\n",
              "          const element = document.querySelector('#df-77c4828b-7c10-4f3f-82a4-67a98c40b6ae');\n",
              "          const dataTable =\n",
              "            await google.colab.kernel.invokeFunction('convertToInteractive',\n",
              "                                                     [key], {});\n",
              "          if (!dataTable) return;\n",
              "\n",
              "          const docLinkHtml = 'Like what you see? Visit the ' +\n",
              "            '<a target=\"_blank\" href=https://colab.research.google.com/notebooks/data_table.ipynb>data table notebook</a>'\n",
              "            + ' to learn more about interactive tables.';\n",
              "          element.innerHTML = '';\n",
              "          dataTable['output_type'] = 'display_data';\n",
              "          await google.colab.output.renderOutput(dataTable, element);\n",
              "          const docLink = document.createElement('div');\n",
              "          docLink.innerHTML = docLinkHtml;\n",
              "          element.appendChild(docLink);\n",
              "        }\n",
              "      </script>\n",
              "    </div>\n",
              "  </div>\n",
              "  "
            ]
          },
          "metadata": {},
          "execution_count": 4
        }
      ],
      "source": [
        "# filtrando apenas o ano de 2021\n",
        "data2021 = data.loc[(data['endTime'] >= '2021-01-01') & (data['endTime'] <= '2021-12-31')]\n",
        "data2021"
      ]
    },
    {
      "cell_type": "markdown",
      "source": [
        "Agora vou acrescentar uma coluna com o **dia da semana** (diadasemana) e outra com o **mês do ano** (mes) para poder verificar qual foi o dia e qual foi o mês que mais escutei música e para isso, vamos utilizar algumas funções da biblioteca datetime para facilitar a vida.\n",
        "\n"
      ],
      "metadata": {
        "id": "NvOcqgJJniT9"
      },
      "id": "NvOcqgJJniT9"
    },
    {
      "cell_type": "code",
      "source": [
        "# Criando coluna com o dia da semana e para os meses\n",
        "data2021[\"diadasemana\"] = data2021.endTime.dt.day_name()\n",
        "data2021[\"mes\"] = data2021.endTime.dt.month_name()\n",
        "data2021"
      ],
      "metadata": {
        "colab": {
          "base_uri": "https://localhost:8080/",
          "height": 632
        },
        "id": "DbYEjyuXXl4H",
        "outputId": "5e8991f7-bc50-41a2-ca89-ccdc19aa533c"
      },
      "id": "DbYEjyuXXl4H",
      "execution_count": null,
      "outputs": [
        {
          "output_type": "stream",
          "name": "stderr",
          "text": [
            "/usr/local/lib/python3.7/dist-packages/ipykernel_launcher.py:2: SettingWithCopyWarning: \n",
            "A value is trying to be set on a copy of a slice from a DataFrame.\n",
            "Try using .loc[row_indexer,col_indexer] = value instead\n",
            "\n",
            "See the caveats in the documentation: https://pandas.pydata.org/pandas-docs/stable/user_guide/indexing.html#returning-a-view-versus-a-copy\n",
            "  \n",
            "/usr/local/lib/python3.7/dist-packages/ipykernel_launcher.py:3: SettingWithCopyWarning: \n",
            "A value is trying to be set on a copy of a slice from a DataFrame.\n",
            "Try using .loc[row_indexer,col_indexer] = value instead\n",
            "\n",
            "See the caveats in the documentation: https://pandas.pydata.org/pandas-docs/stable/user_guide/indexing.html#returning-a-view-versus-a-copy\n",
            "  This is separate from the ipykernel package so we can avoid doing imports until\n"
          ]
        },
        {
          "output_type": "execute_result",
          "data": {
            "text/plain": [
              "                 endTime     artistName                        trackName  \\\n",
              "0    2021-01-08 22:13:00  Black Sabbath  Heaven and Hell - 2009 Remaster   \n",
              "1    2021-01-26 20:25:00      Van Halen  Hot for Teacher - 2015 Remaster   \n",
              "2    2021-01-27 17:07:00         Jinjer                           Pisces   \n",
              "3    2021-01-27 18:49:00         Jinjer                           Pisces   \n",
              "4    2021-01-27 18:55:00         Jinjer                Teacher, Teacher!   \n",
              "...                  ...            ...                              ...   \n",
              "9445 2021-12-29 22:38:00          ANGRA                          Insania   \n",
              "9446 2021-12-29 22:43:00          ANGRA            The Bottom of My Soul   \n",
              "9447 2021-12-29 22:47:00          ANGRA                        War Horns   \n",
              "9448 2021-12-29 22:53:00          ANGRA                          Caveman   \n",
              "9449 2021-12-30 03:03:00          ANGRA                     Magic Mirror   \n",
              "\n",
              "      msPlayed diadasemana       mes  \n",
              "0         2120      Friday   January  \n",
              "1          472     Tuesday   January  \n",
              "2        65663   Wednesday   January  \n",
              "3       305571   Wednesday   January  \n",
              "4       351642   Wednesday   January  \n",
              "...        ...         ...       ...  \n",
              "9445    331800   Wednesday  December  \n",
              "9446    259330   Wednesday  December  \n",
              "9447    283100   Wednesday  December  \n",
              "9448    353340   Wednesday  December  \n",
              "9449     55880    Thursday  December  \n",
              "\n",
              "[9450 rows x 6 columns]"
            ],
            "text/html": [
              "\n",
              "  <div id=\"df-6153313d-3cf7-4740-bd5d-8b20c51bc8ac\">\n",
              "    <div class=\"colab-df-container\">\n",
              "      <div>\n",
              "<style scoped>\n",
              "    .dataframe tbody tr th:only-of-type {\n",
              "        vertical-align: middle;\n",
              "    }\n",
              "\n",
              "    .dataframe tbody tr th {\n",
              "        vertical-align: top;\n",
              "    }\n",
              "\n",
              "    .dataframe thead th {\n",
              "        text-align: right;\n",
              "    }\n",
              "</style>\n",
              "<table border=\"1\" class=\"dataframe\">\n",
              "  <thead>\n",
              "    <tr style=\"text-align: right;\">\n",
              "      <th></th>\n",
              "      <th>endTime</th>\n",
              "      <th>artistName</th>\n",
              "      <th>trackName</th>\n",
              "      <th>msPlayed</th>\n",
              "      <th>diadasemana</th>\n",
              "      <th>mes</th>\n",
              "    </tr>\n",
              "  </thead>\n",
              "  <tbody>\n",
              "    <tr>\n",
              "      <th>0</th>\n",
              "      <td>2021-01-08 22:13:00</td>\n",
              "      <td>Black Sabbath</td>\n",
              "      <td>Heaven and Hell - 2009 Remaster</td>\n",
              "      <td>2120</td>\n",
              "      <td>Friday</td>\n",
              "      <td>January</td>\n",
              "    </tr>\n",
              "    <tr>\n",
              "      <th>1</th>\n",
              "      <td>2021-01-26 20:25:00</td>\n",
              "      <td>Van Halen</td>\n",
              "      <td>Hot for Teacher - 2015 Remaster</td>\n",
              "      <td>472</td>\n",
              "      <td>Tuesday</td>\n",
              "      <td>January</td>\n",
              "    </tr>\n",
              "    <tr>\n",
              "      <th>2</th>\n",
              "      <td>2021-01-27 17:07:00</td>\n",
              "      <td>Jinjer</td>\n",
              "      <td>Pisces</td>\n",
              "      <td>65663</td>\n",
              "      <td>Wednesday</td>\n",
              "      <td>January</td>\n",
              "    </tr>\n",
              "    <tr>\n",
              "      <th>3</th>\n",
              "      <td>2021-01-27 18:49:00</td>\n",
              "      <td>Jinjer</td>\n",
              "      <td>Pisces</td>\n",
              "      <td>305571</td>\n",
              "      <td>Wednesday</td>\n",
              "      <td>January</td>\n",
              "    </tr>\n",
              "    <tr>\n",
              "      <th>4</th>\n",
              "      <td>2021-01-27 18:55:00</td>\n",
              "      <td>Jinjer</td>\n",
              "      <td>Teacher, Teacher!</td>\n",
              "      <td>351642</td>\n",
              "      <td>Wednesday</td>\n",
              "      <td>January</td>\n",
              "    </tr>\n",
              "    <tr>\n",
              "      <th>...</th>\n",
              "      <td>...</td>\n",
              "      <td>...</td>\n",
              "      <td>...</td>\n",
              "      <td>...</td>\n",
              "      <td>...</td>\n",
              "      <td>...</td>\n",
              "    </tr>\n",
              "    <tr>\n",
              "      <th>9445</th>\n",
              "      <td>2021-12-29 22:38:00</td>\n",
              "      <td>ANGRA</td>\n",
              "      <td>Insania</td>\n",
              "      <td>331800</td>\n",
              "      <td>Wednesday</td>\n",
              "      <td>December</td>\n",
              "    </tr>\n",
              "    <tr>\n",
              "      <th>9446</th>\n",
              "      <td>2021-12-29 22:43:00</td>\n",
              "      <td>ANGRA</td>\n",
              "      <td>The Bottom of My Soul</td>\n",
              "      <td>259330</td>\n",
              "      <td>Wednesday</td>\n",
              "      <td>December</td>\n",
              "    </tr>\n",
              "    <tr>\n",
              "      <th>9447</th>\n",
              "      <td>2021-12-29 22:47:00</td>\n",
              "      <td>ANGRA</td>\n",
              "      <td>War Horns</td>\n",
              "      <td>283100</td>\n",
              "      <td>Wednesday</td>\n",
              "      <td>December</td>\n",
              "    </tr>\n",
              "    <tr>\n",
              "      <th>9448</th>\n",
              "      <td>2021-12-29 22:53:00</td>\n",
              "      <td>ANGRA</td>\n",
              "      <td>Caveman</td>\n",
              "      <td>353340</td>\n",
              "      <td>Wednesday</td>\n",
              "      <td>December</td>\n",
              "    </tr>\n",
              "    <tr>\n",
              "      <th>9449</th>\n",
              "      <td>2021-12-30 03:03:00</td>\n",
              "      <td>ANGRA</td>\n",
              "      <td>Magic Mirror</td>\n",
              "      <td>55880</td>\n",
              "      <td>Thursday</td>\n",
              "      <td>December</td>\n",
              "    </tr>\n",
              "  </tbody>\n",
              "</table>\n",
              "<p>9450 rows × 6 columns</p>\n",
              "</div>\n",
              "      <button class=\"colab-df-convert\" onclick=\"convertToInteractive('df-6153313d-3cf7-4740-bd5d-8b20c51bc8ac')\"\n",
              "              title=\"Convert this dataframe to an interactive table.\"\n",
              "              style=\"display:none;\">\n",
              "        \n",
              "  <svg xmlns=\"http://www.w3.org/2000/svg\" height=\"24px\"viewBox=\"0 0 24 24\"\n",
              "       width=\"24px\">\n",
              "    <path d=\"M0 0h24v24H0V0z\" fill=\"none\"/>\n",
              "    <path d=\"M18.56 5.44l.94 2.06.94-2.06 2.06-.94-2.06-.94-.94-2.06-.94 2.06-2.06.94zm-11 1L8.5 8.5l.94-2.06 2.06-.94-2.06-.94L8.5 2.5l-.94 2.06-2.06.94zm10 10l.94 2.06.94-2.06 2.06-.94-2.06-.94-.94-2.06-.94 2.06-2.06.94z\"/><path d=\"M17.41 7.96l-1.37-1.37c-.4-.4-.92-.59-1.43-.59-.52 0-1.04.2-1.43.59L10.3 9.45l-7.72 7.72c-.78.78-.78 2.05 0 2.83L4 21.41c.39.39.9.59 1.41.59.51 0 1.02-.2 1.41-.59l7.78-7.78 2.81-2.81c.8-.78.8-2.07 0-2.86zM5.41 20L4 18.59l7.72-7.72 1.47 1.35L5.41 20z\"/>\n",
              "  </svg>\n",
              "      </button>\n",
              "      \n",
              "  <style>\n",
              "    .colab-df-container {\n",
              "      display:flex;\n",
              "      flex-wrap:wrap;\n",
              "      gap: 12px;\n",
              "    }\n",
              "\n",
              "    .colab-df-convert {\n",
              "      background-color: #E8F0FE;\n",
              "      border: none;\n",
              "      border-radius: 50%;\n",
              "      cursor: pointer;\n",
              "      display: none;\n",
              "      fill: #1967D2;\n",
              "      height: 32px;\n",
              "      padding: 0 0 0 0;\n",
              "      width: 32px;\n",
              "    }\n",
              "\n",
              "    .colab-df-convert:hover {\n",
              "      background-color: #E2EBFA;\n",
              "      box-shadow: 0px 1px 2px rgba(60, 64, 67, 0.3), 0px 1px 3px 1px rgba(60, 64, 67, 0.15);\n",
              "      fill: #174EA6;\n",
              "    }\n",
              "\n",
              "    [theme=dark] .colab-df-convert {\n",
              "      background-color: #3B4455;\n",
              "      fill: #D2E3FC;\n",
              "    }\n",
              "\n",
              "    [theme=dark] .colab-df-convert:hover {\n",
              "      background-color: #434B5C;\n",
              "      box-shadow: 0px 1px 3px 1px rgba(0, 0, 0, 0.15);\n",
              "      filter: drop-shadow(0px 1px 2px rgba(0, 0, 0, 0.3));\n",
              "      fill: #FFFFFF;\n",
              "    }\n",
              "  </style>\n",
              "\n",
              "      <script>\n",
              "        const buttonEl =\n",
              "          document.querySelector('#df-6153313d-3cf7-4740-bd5d-8b20c51bc8ac button.colab-df-convert');\n",
              "        buttonEl.style.display =\n",
              "          google.colab.kernel.accessAllowed ? 'block' : 'none';\n",
              "\n",
              "        async function convertToInteractive(key) {\n",
              "          const element = document.querySelector('#df-6153313d-3cf7-4740-bd5d-8b20c51bc8ac');\n",
              "          const dataTable =\n",
              "            await google.colab.kernel.invokeFunction('convertToInteractive',\n",
              "                                                     [key], {});\n",
              "          if (!dataTable) return;\n",
              "\n",
              "          const docLinkHtml = 'Like what you see? Visit the ' +\n",
              "            '<a target=\"_blank\" href=https://colab.research.google.com/notebooks/data_table.ipynb>data table notebook</a>'\n",
              "            + ' to learn more about interactive tables.';\n",
              "          element.innerHTML = '';\n",
              "          dataTable['output_type'] = 'display_data';\n",
              "          await google.colab.output.renderOutput(dataTable, element);\n",
              "          const docLink = document.createElement('div');\n",
              "          docLink.innerHTML = docLinkHtml;\n",
              "          element.appendChild(docLink);\n",
              "        }\n",
              "      </script>\n",
              "    </div>\n",
              "  </div>\n",
              "  "
            ]
          },
          "metadata": {},
          "execution_count": 5
        }
      ]
    },
    {
      "cell_type": "markdown",
      "source": [
        "### Para os gráficos vou utilizar toda a interatividade do **Plotly**, porém, vou utilizá-lo como backend para diminuir o uso de memória e de escrita de código também, até porque o intuito aqui é apenas brincar um pouco com os dados sobre o meu consumo de música, não é nada sério a ponto de caprichar totalmente nos gráficos."
      ],
      "metadata": {
        "id": "Pj3Typgys2Oc"
      },
      "id": "Pj3Typgys2Oc"
    },
    {
      "cell_type": "code",
      "execution_count": null,
      "id": "95256d15",
      "metadata": {
        "id": "95256d15"
      },
      "outputs": [],
      "source": [
        "# utilizando o Plotly como backend para deixar os gráficos mais chamativos\n",
        "pd.options.plotting.backend = \"plotly\""
      ]
    },
    {
      "cell_type": "markdown",
      "source": [
        "### Agora vamos ver quais foram as 20 bandas que eu mais ouvi no ano de 2021"
      ],
      "metadata": {
        "id": "dQfDh1S9tp4V"
      },
      "id": "dQfDh1S9tp4V"
    },
    {
      "cell_type": "code",
      "source": [
        "# Colocando as 20 bandas mais ouvidas em um gráfico\n",
        "data2021[\"artistName\"].value_counts().sort_values()[-20:].plot.bar()"
      ],
      "metadata": {
        "colab": {
          "base_uri": "https://localhost:8080/",
          "height": 542
        },
        "id": "vuHETxaWJZPI",
        "outputId": "4671abbc-0d93-433c-a70a-4f65ccf13dfd"
      },
      "id": "vuHETxaWJZPI",
      "execution_count": null,
      "outputs": [
        {
          "output_type": "display_data",
          "data": {
            "text/html": [
              "<html>\n",
              "<head><meta charset=\"utf-8\" /></head>\n",
              "<body>\n",
              "    <div>            <script src=\"https://cdnjs.cloudflare.com/ajax/libs/mathjax/2.7.5/MathJax.js?config=TeX-AMS-MML_SVG\"></script><script type=\"text/javascript\">if (window.MathJax) {MathJax.Hub.Config({SVG: {font: \"STIX-Web\"}});}</script>                <script type=\"text/javascript\">window.PlotlyConfig = {MathJaxConfig: 'local'};</script>\n",
              "        <script src=\"https://cdn.plot.ly/plotly-2.8.3.min.js\"></script>                <div id=\"f104a29f-70b7-4ffe-a562-8029c4aa50c8\" class=\"plotly-graph-div\" style=\"height:525px; width:100%;\"></div>            <script type=\"text/javascript\">                                    window.PLOTLYENV=window.PLOTLYENV || {};                                    if (document.getElementById(\"f104a29f-70b7-4ffe-a562-8029c4aa50c8\")) {                    Plotly.newPlot(                        \"f104a29f-70b7-4ffe-a562-8029c4aa50c8\",                        [{\"alignmentgroup\":\"True\",\"hovertemplate\":\"variable=artistName<br>index=%{x}<br>value=%{y}<extra></extra>\",\"legendgroup\":\"artistName\",\"marker\":{\"color\":\"#636efa\",\"pattern\":{\"shape\":\"\"}},\"name\":\"artistName\",\"offsetgroup\":\"artistName\",\"orientation\":\"v\",\"showlegend\":true,\"textposition\":\"auto\",\"x\":[\"Ramones\",\"Megadeth\",\"Placebo\",\"Pantera\",\"ANGRA\",\"Charlie Brown Jr.\",\"Bullet For My Valentine\",\"Foo Fighters\",\"Mastodon\",\"The Offspring\",\"Jinjer\",\"Nirvana\",\"Metallica\",\"Edu Falaschi\",\"Trivium\",\"Iron Maiden\",\"Dream Theater\",\"Pearl Jam\",\"Machine Head\",\"Gojira\"],\"xaxis\":\"x\",\"y\":[95,99,100,107,108,114,120,129,140,159,161,162,170,178,181,189,225,255,271,517],\"yaxis\":\"y\",\"type\":\"bar\"}],                        {\"template\":{\"data\":{\"bar\":[{\"error_x\":{\"color\":\"#2a3f5f\"},\"error_y\":{\"color\":\"#2a3f5f\"},\"marker\":{\"line\":{\"color\":\"#E5ECF6\",\"width\":0.5},\"pattern\":{\"fillmode\":\"overlay\",\"size\":10,\"solidity\":0.2}},\"type\":\"bar\"}],\"barpolar\":[{\"marker\":{\"line\":{\"color\":\"#E5ECF6\",\"width\":0.5},\"pattern\":{\"fillmode\":\"overlay\",\"size\":10,\"solidity\":0.2}},\"type\":\"barpolar\"}],\"carpet\":[{\"aaxis\":{\"endlinecolor\":\"#2a3f5f\",\"gridcolor\":\"white\",\"linecolor\":\"white\",\"minorgridcolor\":\"white\",\"startlinecolor\":\"#2a3f5f\"},\"baxis\":{\"endlinecolor\":\"#2a3f5f\",\"gridcolor\":\"white\",\"linecolor\":\"white\",\"minorgridcolor\":\"white\",\"startlinecolor\":\"#2a3f5f\"},\"type\":\"carpet\"}],\"choropleth\":[{\"colorbar\":{\"outlinewidth\":0,\"ticks\":\"\"},\"type\":\"choropleth\"}],\"contour\":[{\"colorbar\":{\"outlinewidth\":0,\"ticks\":\"\"},\"colorscale\":[[0.0,\"#0d0887\"],[0.1111111111111111,\"#46039f\"],[0.2222222222222222,\"#7201a8\"],[0.3333333333333333,\"#9c179e\"],[0.4444444444444444,\"#bd3786\"],[0.5555555555555556,\"#d8576b\"],[0.6666666666666666,\"#ed7953\"],[0.7777777777777778,\"#fb9f3a\"],[0.8888888888888888,\"#fdca26\"],[1.0,\"#f0f921\"]],\"type\":\"contour\"}],\"contourcarpet\":[{\"colorbar\":{\"outlinewidth\":0,\"ticks\":\"\"},\"type\":\"contourcarpet\"}],\"heatmap\":[{\"colorbar\":{\"outlinewidth\":0,\"ticks\":\"\"},\"colorscale\":[[0.0,\"#0d0887\"],[0.1111111111111111,\"#46039f\"],[0.2222222222222222,\"#7201a8\"],[0.3333333333333333,\"#9c179e\"],[0.4444444444444444,\"#bd3786\"],[0.5555555555555556,\"#d8576b\"],[0.6666666666666666,\"#ed7953\"],[0.7777777777777778,\"#fb9f3a\"],[0.8888888888888888,\"#fdca26\"],[1.0,\"#f0f921\"]],\"type\":\"heatmap\"}],\"heatmapgl\":[{\"colorbar\":{\"outlinewidth\":0,\"ticks\":\"\"},\"colorscale\":[[0.0,\"#0d0887\"],[0.1111111111111111,\"#46039f\"],[0.2222222222222222,\"#7201a8\"],[0.3333333333333333,\"#9c179e\"],[0.4444444444444444,\"#bd3786\"],[0.5555555555555556,\"#d8576b\"],[0.6666666666666666,\"#ed7953\"],[0.7777777777777778,\"#fb9f3a\"],[0.8888888888888888,\"#fdca26\"],[1.0,\"#f0f921\"]],\"type\":\"heatmapgl\"}],\"histogram\":[{\"marker\":{\"pattern\":{\"fillmode\":\"overlay\",\"size\":10,\"solidity\":0.2}},\"type\":\"histogram\"}],\"histogram2d\":[{\"colorbar\":{\"outlinewidth\":0,\"ticks\":\"\"},\"colorscale\":[[0.0,\"#0d0887\"],[0.1111111111111111,\"#46039f\"],[0.2222222222222222,\"#7201a8\"],[0.3333333333333333,\"#9c179e\"],[0.4444444444444444,\"#bd3786\"],[0.5555555555555556,\"#d8576b\"],[0.6666666666666666,\"#ed7953\"],[0.7777777777777778,\"#fb9f3a\"],[0.8888888888888888,\"#fdca26\"],[1.0,\"#f0f921\"]],\"type\":\"histogram2d\"}],\"histogram2dcontour\":[{\"colorbar\":{\"outlinewidth\":0,\"ticks\":\"\"},\"colorscale\":[[0.0,\"#0d0887\"],[0.1111111111111111,\"#46039f\"],[0.2222222222222222,\"#7201a8\"],[0.3333333333333333,\"#9c179e\"],[0.4444444444444444,\"#bd3786\"],[0.5555555555555556,\"#d8576b\"],[0.6666666666666666,\"#ed7953\"],[0.7777777777777778,\"#fb9f3a\"],[0.8888888888888888,\"#fdca26\"],[1.0,\"#f0f921\"]],\"type\":\"histogram2dcontour\"}],\"mesh3d\":[{\"colorbar\":{\"outlinewidth\":0,\"ticks\":\"\"},\"type\":\"mesh3d\"}],\"parcoords\":[{\"line\":{\"colorbar\":{\"outlinewidth\":0,\"ticks\":\"\"}},\"type\":\"parcoords\"}],\"pie\":[{\"automargin\":true,\"type\":\"pie\"}],\"scatter\":[{\"marker\":{\"colorbar\":{\"outlinewidth\":0,\"ticks\":\"\"}},\"type\":\"scatter\"}],\"scatter3d\":[{\"line\":{\"colorbar\":{\"outlinewidth\":0,\"ticks\":\"\"}},\"marker\":{\"colorbar\":{\"outlinewidth\":0,\"ticks\":\"\"}},\"type\":\"scatter3d\"}],\"scattercarpet\":[{\"marker\":{\"colorbar\":{\"outlinewidth\":0,\"ticks\":\"\"}},\"type\":\"scattercarpet\"}],\"scattergeo\":[{\"marker\":{\"colorbar\":{\"outlinewidth\":0,\"ticks\":\"\"}},\"type\":\"scattergeo\"}],\"scattergl\":[{\"marker\":{\"colorbar\":{\"outlinewidth\":0,\"ticks\":\"\"}},\"type\":\"scattergl\"}],\"scattermapbox\":[{\"marker\":{\"colorbar\":{\"outlinewidth\":0,\"ticks\":\"\"}},\"type\":\"scattermapbox\"}],\"scatterpolar\":[{\"marker\":{\"colorbar\":{\"outlinewidth\":0,\"ticks\":\"\"}},\"type\":\"scatterpolar\"}],\"scatterpolargl\":[{\"marker\":{\"colorbar\":{\"outlinewidth\":0,\"ticks\":\"\"}},\"type\":\"scatterpolargl\"}],\"scatterternary\":[{\"marker\":{\"colorbar\":{\"outlinewidth\":0,\"ticks\":\"\"}},\"type\":\"scatterternary\"}],\"surface\":[{\"colorbar\":{\"outlinewidth\":0,\"ticks\":\"\"},\"colorscale\":[[0.0,\"#0d0887\"],[0.1111111111111111,\"#46039f\"],[0.2222222222222222,\"#7201a8\"],[0.3333333333333333,\"#9c179e\"],[0.4444444444444444,\"#bd3786\"],[0.5555555555555556,\"#d8576b\"],[0.6666666666666666,\"#ed7953\"],[0.7777777777777778,\"#fb9f3a\"],[0.8888888888888888,\"#fdca26\"],[1.0,\"#f0f921\"]],\"type\":\"surface\"}],\"table\":[{\"cells\":{\"fill\":{\"color\":\"#EBF0F8\"},\"line\":{\"color\":\"white\"}},\"header\":{\"fill\":{\"color\":\"#C8D4E3\"},\"line\":{\"color\":\"white\"}},\"type\":\"table\"}]},\"layout\":{\"annotationdefaults\":{\"arrowcolor\":\"#2a3f5f\",\"arrowhead\":0,\"arrowwidth\":1},\"autotypenumbers\":\"strict\",\"coloraxis\":{\"colorbar\":{\"outlinewidth\":0,\"ticks\":\"\"}},\"colorscale\":{\"diverging\":[[0,\"#8e0152\"],[0.1,\"#c51b7d\"],[0.2,\"#de77ae\"],[0.3,\"#f1b6da\"],[0.4,\"#fde0ef\"],[0.5,\"#f7f7f7\"],[0.6,\"#e6f5d0\"],[0.7,\"#b8e186\"],[0.8,\"#7fbc41\"],[0.9,\"#4d9221\"],[1,\"#276419\"]],\"sequential\":[[0.0,\"#0d0887\"],[0.1111111111111111,\"#46039f\"],[0.2222222222222222,\"#7201a8\"],[0.3333333333333333,\"#9c179e\"],[0.4444444444444444,\"#bd3786\"],[0.5555555555555556,\"#d8576b\"],[0.6666666666666666,\"#ed7953\"],[0.7777777777777778,\"#fb9f3a\"],[0.8888888888888888,\"#fdca26\"],[1.0,\"#f0f921\"]],\"sequentialminus\":[[0.0,\"#0d0887\"],[0.1111111111111111,\"#46039f\"],[0.2222222222222222,\"#7201a8\"],[0.3333333333333333,\"#9c179e\"],[0.4444444444444444,\"#bd3786\"],[0.5555555555555556,\"#d8576b\"],[0.6666666666666666,\"#ed7953\"],[0.7777777777777778,\"#fb9f3a\"],[0.8888888888888888,\"#fdca26\"],[1.0,\"#f0f921\"]]},\"colorway\":[\"#636efa\",\"#EF553B\",\"#00cc96\",\"#ab63fa\",\"#FFA15A\",\"#19d3f3\",\"#FF6692\",\"#B6E880\",\"#FF97FF\",\"#FECB52\"],\"font\":{\"color\":\"#2a3f5f\"},\"geo\":{\"bgcolor\":\"white\",\"lakecolor\":\"white\",\"landcolor\":\"#E5ECF6\",\"showlakes\":true,\"showland\":true,\"subunitcolor\":\"white\"},\"hoverlabel\":{\"align\":\"left\"},\"hovermode\":\"closest\",\"mapbox\":{\"style\":\"light\"},\"paper_bgcolor\":\"white\",\"plot_bgcolor\":\"#E5ECF6\",\"polar\":{\"angularaxis\":{\"gridcolor\":\"white\",\"linecolor\":\"white\",\"ticks\":\"\"},\"bgcolor\":\"#E5ECF6\",\"radialaxis\":{\"gridcolor\":\"white\",\"linecolor\":\"white\",\"ticks\":\"\"}},\"scene\":{\"xaxis\":{\"backgroundcolor\":\"#E5ECF6\",\"gridcolor\":\"white\",\"gridwidth\":2,\"linecolor\":\"white\",\"showbackground\":true,\"ticks\":\"\",\"zerolinecolor\":\"white\"},\"yaxis\":{\"backgroundcolor\":\"#E5ECF6\",\"gridcolor\":\"white\",\"gridwidth\":2,\"linecolor\":\"white\",\"showbackground\":true,\"ticks\":\"\",\"zerolinecolor\":\"white\"},\"zaxis\":{\"backgroundcolor\":\"#E5ECF6\",\"gridcolor\":\"white\",\"gridwidth\":2,\"linecolor\":\"white\",\"showbackground\":true,\"ticks\":\"\",\"zerolinecolor\":\"white\"}},\"shapedefaults\":{\"line\":{\"color\":\"#2a3f5f\"}},\"ternary\":{\"aaxis\":{\"gridcolor\":\"white\",\"linecolor\":\"white\",\"ticks\":\"\"},\"baxis\":{\"gridcolor\":\"white\",\"linecolor\":\"white\",\"ticks\":\"\"},\"bgcolor\":\"#E5ECF6\",\"caxis\":{\"gridcolor\":\"white\",\"linecolor\":\"white\",\"ticks\":\"\"}},\"title\":{\"x\":0.05},\"xaxis\":{\"automargin\":true,\"gridcolor\":\"white\",\"linecolor\":\"white\",\"ticks\":\"\",\"title\":{\"standoff\":15},\"zerolinecolor\":\"white\",\"zerolinewidth\":2},\"yaxis\":{\"automargin\":true,\"gridcolor\":\"white\",\"linecolor\":\"white\",\"ticks\":\"\",\"title\":{\"standoff\":15},\"zerolinecolor\":\"white\",\"zerolinewidth\":2}}},\"xaxis\":{\"anchor\":\"y\",\"domain\":[0.0,1.0],\"title\":{\"text\":\"index\"}},\"yaxis\":{\"anchor\":\"x\",\"domain\":[0.0,1.0],\"title\":{\"text\":\"value\"}},\"legend\":{\"title\":{\"text\":\"variable\"},\"tracegroupgap\":0},\"margin\":{\"t\":60},\"barmode\":\"relative\"},                        {\"responsive\": true}                    ).then(function(){\n",
              "                            \n",
              "var gd = document.getElementById('f104a29f-70b7-4ffe-a562-8029c4aa50c8');\n",
              "var x = new MutationObserver(function (mutations, observer) {{\n",
              "        var display = window.getComputedStyle(gd).display;\n",
              "        if (!display || display === 'none') {{\n",
              "            console.log([gd, 'removed!']);\n",
              "            Plotly.purge(gd);\n",
              "            observer.disconnect();\n",
              "        }}\n",
              "}});\n",
              "\n",
              "// Listen for the removal of the full notebook cells\n",
              "var notebookContainer = gd.closest('#notebook-container');\n",
              "if (notebookContainer) {{\n",
              "    x.observe(notebookContainer, {childList: true});\n",
              "}}\n",
              "\n",
              "// Listen for the clearing of the current output cell\n",
              "var outputEl = gd.closest('.output');\n",
              "if (outputEl) {{\n",
              "    x.observe(outputEl, {childList: true});\n",
              "}}\n",
              "\n",
              "                        })                };                            </script>        </div>\n",
              "</body>\n",
              "</html>"
            ]
          },
          "metadata": {}
        }
      ]
    },
    {
      "cell_type": "markdown",
      "source": [
        "Já podemos perceber pelo gráfico inteirativo do *Plotly* que eu gosto muito de rock, pricipalmente a vertente Heavy Metal e Punk Rock. Apesar que minha adolescência grunge ainda não me deixou... O gráfico apresenta o rank das 20 bandas que eu mais ouvi no ano em questão\n",
        "\n",
        "**Gojira** (517 músicas ouvidas) em 1º lugar e não poderia ser diferente! Com o lançamento do excelente albúm Fortitude em 2021, ouvi bastante este albúm e os demais do catálogo. O mais engraçado é que quem me apresentou esta banda foi meu filho que na época tinha 12 anos 😯 \n",
        "\n",
        "**Machine Head**, **Trivium** e **Jinjer** são bandas que \"descobri\" neste ano e passei a ouvir e a admirar o trabalho deles. \n",
        "\n",
        "**Edu Falaschi**, grande vovalista brasileiro de Heavy Metal aparece muito bem rankeado nesta lista devido ao lançamento do excelente álbum *Vera Cruz*\n",
        "\n",
        "Bom, depois não tem muitas supresas (pelo menos não para mim) onde a maioria das bandas eu ouço desde a minha adolescência ou até antes dela como é o caso de Metallica, Iron Maiden e Ramones."
      ],
      "metadata": {
        "id": "on9FCg84ppqf"
      },
      "id": "on9FCg84ppqf"
    },
    {
      "cell_type": "markdown",
      "source": [
        "### Quais foram as 20 músicas que eu mais ouvi no ano de 2021?"
      ],
      "metadata": {
        "id": "cVrCBBcLtzLo"
      },
      "id": "cVrCBBcLtzLo"
    },
    {
      "cell_type": "code",
      "execution_count": null,
      "id": "86397944",
      "metadata": {
        "colab": {
          "base_uri": "https://localhost:8080/",
          "height": 542
        },
        "id": "86397944",
        "outputId": "faf2f3c2-7761-487b-8c02-26dfb39d9df2"
      },
      "outputs": [
        {
          "output_type": "display_data",
          "data": {
            "text/html": [
              "<html>\n",
              "<head><meta charset=\"utf-8\" /></head>\n",
              "<body>\n",
              "    <div>            <script src=\"https://cdnjs.cloudflare.com/ajax/libs/mathjax/2.7.5/MathJax.js?config=TeX-AMS-MML_SVG\"></script><script type=\"text/javascript\">if (window.MathJax) {MathJax.Hub.Config({SVG: {font: \"STIX-Web\"}});}</script>                <script type=\"text/javascript\">window.PlotlyConfig = {MathJaxConfig: 'local'};</script>\n",
              "        <script src=\"https://cdn.plot.ly/plotly-2.8.3.min.js\"></script>                <div id=\"57e98bce-49f4-4975-82ab-a9105df836f4\" class=\"plotly-graph-div\" style=\"height:525px; width:100%;\"></div>            <script type=\"text/javascript\">                                    window.PLOTLYENV=window.PLOTLYENV || {};                                    if (document.getElementById(\"57e98bce-49f4-4975-82ab-a9105df836f4\")) {                    Plotly.newPlot(                        \"57e98bce-49f4-4975-82ab-a9105df836f4\",                        [{\"alignmentgroup\":\"True\",\"hovertemplate\":\"variable=trackName<br>index=%{x}<br>value=%{y}<extra></extra>\",\"legendgroup\":\"trackName\",\"marker\":{\"color\":\"#636efa\",\"pattern\":{\"shape\":\"\"}},\"name\":\"trackName\",\"offsetgroup\":\"trackName\",\"orientation\":\"v\",\"showlegend\":true,\"textposition\":\"auto\",\"x\":[\"Losing My Religion\",\"Every You Every Me\",\"Davidian\",\"Oblivion\",\"Even Flow\",\"Mother\",\"L'enfant sauvage\",\"New Found\",\"Would?\",\"Is There Anybody Out There?\",\"Jeremy\",\"The Gift of Guilt\",\"Hysteria\",\"Strife\",\"Clube Dos Canalhas\",\"The Last Fight\",\"The Ancestry\",\"Amazonia\",\"Into The Storm\",\"Locust\"],\"xaxis\":\"x\",\"y\":[26,27,27,27,27,27,27,31,32,34,35,35,36,38,38,41,42,48,59,67],\"yaxis\":\"y\",\"type\":\"bar\"}],                        {\"template\":{\"data\":{\"bar\":[{\"error_x\":{\"color\":\"#2a3f5f\"},\"error_y\":{\"color\":\"#2a3f5f\"},\"marker\":{\"line\":{\"color\":\"#E5ECF6\",\"width\":0.5},\"pattern\":{\"fillmode\":\"overlay\",\"size\":10,\"solidity\":0.2}},\"type\":\"bar\"}],\"barpolar\":[{\"marker\":{\"line\":{\"color\":\"#E5ECF6\",\"width\":0.5},\"pattern\":{\"fillmode\":\"overlay\",\"size\":10,\"solidity\":0.2}},\"type\":\"barpolar\"}],\"carpet\":[{\"aaxis\":{\"endlinecolor\":\"#2a3f5f\",\"gridcolor\":\"white\",\"linecolor\":\"white\",\"minorgridcolor\":\"white\",\"startlinecolor\":\"#2a3f5f\"},\"baxis\":{\"endlinecolor\":\"#2a3f5f\",\"gridcolor\":\"white\",\"linecolor\":\"white\",\"minorgridcolor\":\"white\",\"startlinecolor\":\"#2a3f5f\"},\"type\":\"carpet\"}],\"choropleth\":[{\"colorbar\":{\"outlinewidth\":0,\"ticks\":\"\"},\"type\":\"choropleth\"}],\"contour\":[{\"colorbar\":{\"outlinewidth\":0,\"ticks\":\"\"},\"colorscale\":[[0.0,\"#0d0887\"],[0.1111111111111111,\"#46039f\"],[0.2222222222222222,\"#7201a8\"],[0.3333333333333333,\"#9c179e\"],[0.4444444444444444,\"#bd3786\"],[0.5555555555555556,\"#d8576b\"],[0.6666666666666666,\"#ed7953\"],[0.7777777777777778,\"#fb9f3a\"],[0.8888888888888888,\"#fdca26\"],[1.0,\"#f0f921\"]],\"type\":\"contour\"}],\"contourcarpet\":[{\"colorbar\":{\"outlinewidth\":0,\"ticks\":\"\"},\"type\":\"contourcarpet\"}],\"heatmap\":[{\"colorbar\":{\"outlinewidth\":0,\"ticks\":\"\"},\"colorscale\":[[0.0,\"#0d0887\"],[0.1111111111111111,\"#46039f\"],[0.2222222222222222,\"#7201a8\"],[0.3333333333333333,\"#9c179e\"],[0.4444444444444444,\"#bd3786\"],[0.5555555555555556,\"#d8576b\"],[0.6666666666666666,\"#ed7953\"],[0.7777777777777778,\"#fb9f3a\"],[0.8888888888888888,\"#fdca26\"],[1.0,\"#f0f921\"]],\"type\":\"heatmap\"}],\"heatmapgl\":[{\"colorbar\":{\"outlinewidth\":0,\"ticks\":\"\"},\"colorscale\":[[0.0,\"#0d0887\"],[0.1111111111111111,\"#46039f\"],[0.2222222222222222,\"#7201a8\"],[0.3333333333333333,\"#9c179e\"],[0.4444444444444444,\"#bd3786\"],[0.5555555555555556,\"#d8576b\"],[0.6666666666666666,\"#ed7953\"],[0.7777777777777778,\"#fb9f3a\"],[0.8888888888888888,\"#fdca26\"],[1.0,\"#f0f921\"]],\"type\":\"heatmapgl\"}],\"histogram\":[{\"marker\":{\"pattern\":{\"fillmode\":\"overlay\",\"size\":10,\"solidity\":0.2}},\"type\":\"histogram\"}],\"histogram2d\":[{\"colorbar\":{\"outlinewidth\":0,\"ticks\":\"\"},\"colorscale\":[[0.0,\"#0d0887\"],[0.1111111111111111,\"#46039f\"],[0.2222222222222222,\"#7201a8\"],[0.3333333333333333,\"#9c179e\"],[0.4444444444444444,\"#bd3786\"],[0.5555555555555556,\"#d8576b\"],[0.6666666666666666,\"#ed7953\"],[0.7777777777777778,\"#fb9f3a\"],[0.8888888888888888,\"#fdca26\"],[1.0,\"#f0f921\"]],\"type\":\"histogram2d\"}],\"histogram2dcontour\":[{\"colorbar\":{\"outlinewidth\":0,\"ticks\":\"\"},\"colorscale\":[[0.0,\"#0d0887\"],[0.1111111111111111,\"#46039f\"],[0.2222222222222222,\"#7201a8\"],[0.3333333333333333,\"#9c179e\"],[0.4444444444444444,\"#bd3786\"],[0.5555555555555556,\"#d8576b\"],[0.6666666666666666,\"#ed7953\"],[0.7777777777777778,\"#fb9f3a\"],[0.8888888888888888,\"#fdca26\"],[1.0,\"#f0f921\"]],\"type\":\"histogram2dcontour\"}],\"mesh3d\":[{\"colorbar\":{\"outlinewidth\":0,\"ticks\":\"\"},\"type\":\"mesh3d\"}],\"parcoords\":[{\"line\":{\"colorbar\":{\"outlinewidth\":0,\"ticks\":\"\"}},\"type\":\"parcoords\"}],\"pie\":[{\"automargin\":true,\"type\":\"pie\"}],\"scatter\":[{\"marker\":{\"colorbar\":{\"outlinewidth\":0,\"ticks\":\"\"}},\"type\":\"scatter\"}],\"scatter3d\":[{\"line\":{\"colorbar\":{\"outlinewidth\":0,\"ticks\":\"\"}},\"marker\":{\"colorbar\":{\"outlinewidth\":0,\"ticks\":\"\"}},\"type\":\"scatter3d\"}],\"scattercarpet\":[{\"marker\":{\"colorbar\":{\"outlinewidth\":0,\"ticks\":\"\"}},\"type\":\"scattercarpet\"}],\"scattergeo\":[{\"marker\":{\"colorbar\":{\"outlinewidth\":0,\"ticks\":\"\"}},\"type\":\"scattergeo\"}],\"scattergl\":[{\"marker\":{\"colorbar\":{\"outlinewidth\":0,\"ticks\":\"\"}},\"type\":\"scattergl\"}],\"scattermapbox\":[{\"marker\":{\"colorbar\":{\"outlinewidth\":0,\"ticks\":\"\"}},\"type\":\"scattermapbox\"}],\"scatterpolar\":[{\"marker\":{\"colorbar\":{\"outlinewidth\":0,\"ticks\":\"\"}},\"type\":\"scatterpolar\"}],\"scatterpolargl\":[{\"marker\":{\"colorbar\":{\"outlinewidth\":0,\"ticks\":\"\"}},\"type\":\"scatterpolargl\"}],\"scatterternary\":[{\"marker\":{\"colorbar\":{\"outlinewidth\":0,\"ticks\":\"\"}},\"type\":\"scatterternary\"}],\"surface\":[{\"colorbar\":{\"outlinewidth\":0,\"ticks\":\"\"},\"colorscale\":[[0.0,\"#0d0887\"],[0.1111111111111111,\"#46039f\"],[0.2222222222222222,\"#7201a8\"],[0.3333333333333333,\"#9c179e\"],[0.4444444444444444,\"#bd3786\"],[0.5555555555555556,\"#d8576b\"],[0.6666666666666666,\"#ed7953\"],[0.7777777777777778,\"#fb9f3a\"],[0.8888888888888888,\"#fdca26\"],[1.0,\"#f0f921\"]],\"type\":\"surface\"}],\"table\":[{\"cells\":{\"fill\":{\"color\":\"#EBF0F8\"},\"line\":{\"color\":\"white\"}},\"header\":{\"fill\":{\"color\":\"#C8D4E3\"},\"line\":{\"color\":\"white\"}},\"type\":\"table\"}]},\"layout\":{\"annotationdefaults\":{\"arrowcolor\":\"#2a3f5f\",\"arrowhead\":0,\"arrowwidth\":1},\"autotypenumbers\":\"strict\",\"coloraxis\":{\"colorbar\":{\"outlinewidth\":0,\"ticks\":\"\"}},\"colorscale\":{\"diverging\":[[0,\"#8e0152\"],[0.1,\"#c51b7d\"],[0.2,\"#de77ae\"],[0.3,\"#f1b6da\"],[0.4,\"#fde0ef\"],[0.5,\"#f7f7f7\"],[0.6,\"#e6f5d0\"],[0.7,\"#b8e186\"],[0.8,\"#7fbc41\"],[0.9,\"#4d9221\"],[1,\"#276419\"]],\"sequential\":[[0.0,\"#0d0887\"],[0.1111111111111111,\"#46039f\"],[0.2222222222222222,\"#7201a8\"],[0.3333333333333333,\"#9c179e\"],[0.4444444444444444,\"#bd3786\"],[0.5555555555555556,\"#d8576b\"],[0.6666666666666666,\"#ed7953\"],[0.7777777777777778,\"#fb9f3a\"],[0.8888888888888888,\"#fdca26\"],[1.0,\"#f0f921\"]],\"sequentialminus\":[[0.0,\"#0d0887\"],[0.1111111111111111,\"#46039f\"],[0.2222222222222222,\"#7201a8\"],[0.3333333333333333,\"#9c179e\"],[0.4444444444444444,\"#bd3786\"],[0.5555555555555556,\"#d8576b\"],[0.6666666666666666,\"#ed7953\"],[0.7777777777777778,\"#fb9f3a\"],[0.8888888888888888,\"#fdca26\"],[1.0,\"#f0f921\"]]},\"colorway\":[\"#636efa\",\"#EF553B\",\"#00cc96\",\"#ab63fa\",\"#FFA15A\",\"#19d3f3\",\"#FF6692\",\"#B6E880\",\"#FF97FF\",\"#FECB52\"],\"font\":{\"color\":\"#2a3f5f\"},\"geo\":{\"bgcolor\":\"white\",\"lakecolor\":\"white\",\"landcolor\":\"#E5ECF6\",\"showlakes\":true,\"showland\":true,\"subunitcolor\":\"white\"},\"hoverlabel\":{\"align\":\"left\"},\"hovermode\":\"closest\",\"mapbox\":{\"style\":\"light\"},\"paper_bgcolor\":\"white\",\"plot_bgcolor\":\"#E5ECF6\",\"polar\":{\"angularaxis\":{\"gridcolor\":\"white\",\"linecolor\":\"white\",\"ticks\":\"\"},\"bgcolor\":\"#E5ECF6\",\"radialaxis\":{\"gridcolor\":\"white\",\"linecolor\":\"white\",\"ticks\":\"\"}},\"scene\":{\"xaxis\":{\"backgroundcolor\":\"#E5ECF6\",\"gridcolor\":\"white\",\"gridwidth\":2,\"linecolor\":\"white\",\"showbackground\":true,\"ticks\":\"\",\"zerolinecolor\":\"white\"},\"yaxis\":{\"backgroundcolor\":\"#E5ECF6\",\"gridcolor\":\"white\",\"gridwidth\":2,\"linecolor\":\"white\",\"showbackground\":true,\"ticks\":\"\",\"zerolinecolor\":\"white\"},\"zaxis\":{\"backgroundcolor\":\"#E5ECF6\",\"gridcolor\":\"white\",\"gridwidth\":2,\"linecolor\":\"white\",\"showbackground\":true,\"ticks\":\"\",\"zerolinecolor\":\"white\"}},\"shapedefaults\":{\"line\":{\"color\":\"#2a3f5f\"}},\"ternary\":{\"aaxis\":{\"gridcolor\":\"white\",\"linecolor\":\"white\",\"ticks\":\"\"},\"baxis\":{\"gridcolor\":\"white\",\"linecolor\":\"white\",\"ticks\":\"\"},\"bgcolor\":\"#E5ECF6\",\"caxis\":{\"gridcolor\":\"white\",\"linecolor\":\"white\",\"ticks\":\"\"}},\"title\":{\"x\":0.05},\"xaxis\":{\"automargin\":true,\"gridcolor\":\"white\",\"linecolor\":\"white\",\"ticks\":\"\",\"title\":{\"standoff\":15},\"zerolinecolor\":\"white\",\"zerolinewidth\":2},\"yaxis\":{\"automargin\":true,\"gridcolor\":\"white\",\"linecolor\":\"white\",\"ticks\":\"\",\"title\":{\"standoff\":15},\"zerolinecolor\":\"white\",\"zerolinewidth\":2}}},\"xaxis\":{\"anchor\":\"y\",\"domain\":[0.0,1.0],\"title\":{\"text\":\"index\"}},\"yaxis\":{\"anchor\":\"x\",\"domain\":[0.0,1.0],\"title\":{\"text\":\"value\"}},\"legend\":{\"title\":{\"text\":\"variable\"},\"tracegroupgap\":0},\"margin\":{\"t\":60},\"barmode\":\"relative\"},                        {\"responsive\": true}                    ).then(function(){\n",
              "                            \n",
              "var gd = document.getElementById('57e98bce-49f4-4975-82ab-a9105df836f4');\n",
              "var x = new MutationObserver(function (mutations, observer) {{\n",
              "        var display = window.getComputedStyle(gd).display;\n",
              "        if (!display || display === 'none') {{\n",
              "            console.log([gd, 'removed!']);\n",
              "            Plotly.purge(gd);\n",
              "            observer.disconnect();\n",
              "        }}\n",
              "}});\n",
              "\n",
              "// Listen for the removal of the full notebook cells\n",
              "var notebookContainer = gd.closest('#notebook-container');\n",
              "if (notebookContainer) {{\n",
              "    x.observe(notebookContainer, {childList: true});\n",
              "}}\n",
              "\n",
              "// Listen for the clearing of the current output cell\n",
              "var outputEl = gd.closest('.output');\n",
              "if (outputEl) {{\n",
              "    x.observe(outputEl, {childList: true});\n",
              "}}\n",
              "\n",
              "                        })                };                            </script>        </div>\n",
              "</body>\n",
              "</html>"
            ]
          },
          "metadata": {}
        }
      ],
      "source": [
        "# Colocando as 20 Músicas mais ouvidas em gráfico\n",
        "data2021[\"trackName\"].value_counts().sort_values()[-20:].plot(kind=\"bar\")"
      ]
    },
    {
      "cell_type": "markdown",
      "source": [
        "Apesar da banda Gojira ter sido a que eu mais ouvi, é uma música do Machine Head - **Locust** (67 vevzes - parece que gostei bastante desta música) que foi a mais tocada no ano. Mas boa parte das músicas do álbum Fortitude estão entre as mais tocadas (Into the Storm, Amazonia, New Found))\n",
        "\n",
        "Depois temos uma miscelânia de bandas, passando por Muse, Bullet for my Vallentine, Trivium, Edu Falaschi, Alice in Chaisn, Matanza, R.E.M., Mastodon, Pearl Jam e Placebo."
      ],
      "metadata": {
        "id": "fxq2vseBt8CS"
      },
      "id": "fxq2vseBt8CS"
    },
    {
      "cell_type": "markdown",
      "source": [
        "### Qual será o dia da semana que eu mais escutei música?"
      ],
      "metadata": {
        "id": "gKI_9rp4u3Ic"
      },
      "id": "gKI_9rp4u3Ic"
    },
    {
      "cell_type": "code",
      "source": [
        "# gráfico dia da semana que mais ouvi música\n",
        "data2021[\"diadasemana\"].value_counts().plot(kind=\"bar\")"
      ],
      "metadata": {
        "colab": {
          "base_uri": "https://localhost:8080/",
          "height": 542
        },
        "id": "cuc5rfRBhMxt",
        "outputId": "6b91dd75-3312-4eaf-f2ff-d0eef6cacb1e"
      },
      "id": "cuc5rfRBhMxt",
      "execution_count": null,
      "outputs": [
        {
          "output_type": "display_data",
          "data": {
            "text/html": [
              "<html>\n",
              "<head><meta charset=\"utf-8\" /></head>\n",
              "<body>\n",
              "    <div>            <script src=\"https://cdnjs.cloudflare.com/ajax/libs/mathjax/2.7.5/MathJax.js?config=TeX-AMS-MML_SVG\"></script><script type=\"text/javascript\">if (window.MathJax) {MathJax.Hub.Config({SVG: {font: \"STIX-Web\"}});}</script>                <script type=\"text/javascript\">window.PlotlyConfig = {MathJaxConfig: 'local'};</script>\n",
              "        <script src=\"https://cdn.plot.ly/plotly-2.8.3.min.js\"></script>                <div id=\"a4ed90bc-1d86-48c3-b05a-d14e0ea7840c\" class=\"plotly-graph-div\" style=\"height:525px; width:100%;\"></div>            <script type=\"text/javascript\">                                    window.PLOTLYENV=window.PLOTLYENV || {};                                    if (document.getElementById(\"a4ed90bc-1d86-48c3-b05a-d14e0ea7840c\")) {                    Plotly.newPlot(                        \"a4ed90bc-1d86-48c3-b05a-d14e0ea7840c\",                        [{\"alignmentgroup\":\"True\",\"hovertemplate\":\"variable=diadasemana<br>index=%{x}<br>value=%{y}<extra></extra>\",\"legendgroup\":\"diadasemana\",\"marker\":{\"color\":\"#636efa\",\"pattern\":{\"shape\":\"\"}},\"name\":\"diadasemana\",\"offsetgroup\":\"diadasemana\",\"orientation\":\"v\",\"showlegend\":true,\"textposition\":\"auto\",\"x\":[\"Sunday\",\"Saturday\",\"Friday\",\"Monday\",\"Tuesday\",\"Wednesday\",\"Thursday\"],\"xaxis\":\"x\",\"y\":[2573,2106,1785,1018,670,666,632],\"yaxis\":\"y\",\"type\":\"bar\"}],                        {\"template\":{\"data\":{\"bar\":[{\"error_x\":{\"color\":\"#2a3f5f\"},\"error_y\":{\"color\":\"#2a3f5f\"},\"marker\":{\"line\":{\"color\":\"#E5ECF6\",\"width\":0.5},\"pattern\":{\"fillmode\":\"overlay\",\"size\":10,\"solidity\":0.2}},\"type\":\"bar\"}],\"barpolar\":[{\"marker\":{\"line\":{\"color\":\"#E5ECF6\",\"width\":0.5},\"pattern\":{\"fillmode\":\"overlay\",\"size\":10,\"solidity\":0.2}},\"type\":\"barpolar\"}],\"carpet\":[{\"aaxis\":{\"endlinecolor\":\"#2a3f5f\",\"gridcolor\":\"white\",\"linecolor\":\"white\",\"minorgridcolor\":\"white\",\"startlinecolor\":\"#2a3f5f\"},\"baxis\":{\"endlinecolor\":\"#2a3f5f\",\"gridcolor\":\"white\",\"linecolor\":\"white\",\"minorgridcolor\":\"white\",\"startlinecolor\":\"#2a3f5f\"},\"type\":\"carpet\"}],\"choropleth\":[{\"colorbar\":{\"outlinewidth\":0,\"ticks\":\"\"},\"type\":\"choropleth\"}],\"contour\":[{\"colorbar\":{\"outlinewidth\":0,\"ticks\":\"\"},\"colorscale\":[[0.0,\"#0d0887\"],[0.1111111111111111,\"#46039f\"],[0.2222222222222222,\"#7201a8\"],[0.3333333333333333,\"#9c179e\"],[0.4444444444444444,\"#bd3786\"],[0.5555555555555556,\"#d8576b\"],[0.6666666666666666,\"#ed7953\"],[0.7777777777777778,\"#fb9f3a\"],[0.8888888888888888,\"#fdca26\"],[1.0,\"#f0f921\"]],\"type\":\"contour\"}],\"contourcarpet\":[{\"colorbar\":{\"outlinewidth\":0,\"ticks\":\"\"},\"type\":\"contourcarpet\"}],\"heatmap\":[{\"colorbar\":{\"outlinewidth\":0,\"ticks\":\"\"},\"colorscale\":[[0.0,\"#0d0887\"],[0.1111111111111111,\"#46039f\"],[0.2222222222222222,\"#7201a8\"],[0.3333333333333333,\"#9c179e\"],[0.4444444444444444,\"#bd3786\"],[0.5555555555555556,\"#d8576b\"],[0.6666666666666666,\"#ed7953\"],[0.7777777777777778,\"#fb9f3a\"],[0.8888888888888888,\"#fdca26\"],[1.0,\"#f0f921\"]],\"type\":\"heatmap\"}],\"heatmapgl\":[{\"colorbar\":{\"outlinewidth\":0,\"ticks\":\"\"},\"colorscale\":[[0.0,\"#0d0887\"],[0.1111111111111111,\"#46039f\"],[0.2222222222222222,\"#7201a8\"],[0.3333333333333333,\"#9c179e\"],[0.4444444444444444,\"#bd3786\"],[0.5555555555555556,\"#d8576b\"],[0.6666666666666666,\"#ed7953\"],[0.7777777777777778,\"#fb9f3a\"],[0.8888888888888888,\"#fdca26\"],[1.0,\"#f0f921\"]],\"type\":\"heatmapgl\"}],\"histogram\":[{\"marker\":{\"pattern\":{\"fillmode\":\"overlay\",\"size\":10,\"solidity\":0.2}},\"type\":\"histogram\"}],\"histogram2d\":[{\"colorbar\":{\"outlinewidth\":0,\"ticks\":\"\"},\"colorscale\":[[0.0,\"#0d0887\"],[0.1111111111111111,\"#46039f\"],[0.2222222222222222,\"#7201a8\"],[0.3333333333333333,\"#9c179e\"],[0.4444444444444444,\"#bd3786\"],[0.5555555555555556,\"#d8576b\"],[0.6666666666666666,\"#ed7953\"],[0.7777777777777778,\"#fb9f3a\"],[0.8888888888888888,\"#fdca26\"],[1.0,\"#f0f921\"]],\"type\":\"histogram2d\"}],\"histogram2dcontour\":[{\"colorbar\":{\"outlinewidth\":0,\"ticks\":\"\"},\"colorscale\":[[0.0,\"#0d0887\"],[0.1111111111111111,\"#46039f\"],[0.2222222222222222,\"#7201a8\"],[0.3333333333333333,\"#9c179e\"],[0.4444444444444444,\"#bd3786\"],[0.5555555555555556,\"#d8576b\"],[0.6666666666666666,\"#ed7953\"],[0.7777777777777778,\"#fb9f3a\"],[0.8888888888888888,\"#fdca26\"],[1.0,\"#f0f921\"]],\"type\":\"histogram2dcontour\"}],\"mesh3d\":[{\"colorbar\":{\"outlinewidth\":0,\"ticks\":\"\"},\"type\":\"mesh3d\"}],\"parcoords\":[{\"line\":{\"colorbar\":{\"outlinewidth\":0,\"ticks\":\"\"}},\"type\":\"parcoords\"}],\"pie\":[{\"automargin\":true,\"type\":\"pie\"}],\"scatter\":[{\"marker\":{\"colorbar\":{\"outlinewidth\":0,\"ticks\":\"\"}},\"type\":\"scatter\"}],\"scatter3d\":[{\"line\":{\"colorbar\":{\"outlinewidth\":0,\"ticks\":\"\"}},\"marker\":{\"colorbar\":{\"outlinewidth\":0,\"ticks\":\"\"}},\"type\":\"scatter3d\"}],\"scattercarpet\":[{\"marker\":{\"colorbar\":{\"outlinewidth\":0,\"ticks\":\"\"}},\"type\":\"scattercarpet\"}],\"scattergeo\":[{\"marker\":{\"colorbar\":{\"outlinewidth\":0,\"ticks\":\"\"}},\"type\":\"scattergeo\"}],\"scattergl\":[{\"marker\":{\"colorbar\":{\"outlinewidth\":0,\"ticks\":\"\"}},\"type\":\"scattergl\"}],\"scattermapbox\":[{\"marker\":{\"colorbar\":{\"outlinewidth\":0,\"ticks\":\"\"}},\"type\":\"scattermapbox\"}],\"scatterpolar\":[{\"marker\":{\"colorbar\":{\"outlinewidth\":0,\"ticks\":\"\"}},\"type\":\"scatterpolar\"}],\"scatterpolargl\":[{\"marker\":{\"colorbar\":{\"outlinewidth\":0,\"ticks\":\"\"}},\"type\":\"scatterpolargl\"}],\"scatterternary\":[{\"marker\":{\"colorbar\":{\"outlinewidth\":0,\"ticks\":\"\"}},\"type\":\"scatterternary\"}],\"surface\":[{\"colorbar\":{\"outlinewidth\":0,\"ticks\":\"\"},\"colorscale\":[[0.0,\"#0d0887\"],[0.1111111111111111,\"#46039f\"],[0.2222222222222222,\"#7201a8\"],[0.3333333333333333,\"#9c179e\"],[0.4444444444444444,\"#bd3786\"],[0.5555555555555556,\"#d8576b\"],[0.6666666666666666,\"#ed7953\"],[0.7777777777777778,\"#fb9f3a\"],[0.8888888888888888,\"#fdca26\"],[1.0,\"#f0f921\"]],\"type\":\"surface\"}],\"table\":[{\"cells\":{\"fill\":{\"color\":\"#EBF0F8\"},\"line\":{\"color\":\"white\"}},\"header\":{\"fill\":{\"color\":\"#C8D4E3\"},\"line\":{\"color\":\"white\"}},\"type\":\"table\"}]},\"layout\":{\"annotationdefaults\":{\"arrowcolor\":\"#2a3f5f\",\"arrowhead\":0,\"arrowwidth\":1},\"autotypenumbers\":\"strict\",\"coloraxis\":{\"colorbar\":{\"outlinewidth\":0,\"ticks\":\"\"}},\"colorscale\":{\"diverging\":[[0,\"#8e0152\"],[0.1,\"#c51b7d\"],[0.2,\"#de77ae\"],[0.3,\"#f1b6da\"],[0.4,\"#fde0ef\"],[0.5,\"#f7f7f7\"],[0.6,\"#e6f5d0\"],[0.7,\"#b8e186\"],[0.8,\"#7fbc41\"],[0.9,\"#4d9221\"],[1,\"#276419\"]],\"sequential\":[[0.0,\"#0d0887\"],[0.1111111111111111,\"#46039f\"],[0.2222222222222222,\"#7201a8\"],[0.3333333333333333,\"#9c179e\"],[0.4444444444444444,\"#bd3786\"],[0.5555555555555556,\"#d8576b\"],[0.6666666666666666,\"#ed7953\"],[0.7777777777777778,\"#fb9f3a\"],[0.8888888888888888,\"#fdca26\"],[1.0,\"#f0f921\"]],\"sequentialminus\":[[0.0,\"#0d0887\"],[0.1111111111111111,\"#46039f\"],[0.2222222222222222,\"#7201a8\"],[0.3333333333333333,\"#9c179e\"],[0.4444444444444444,\"#bd3786\"],[0.5555555555555556,\"#d8576b\"],[0.6666666666666666,\"#ed7953\"],[0.7777777777777778,\"#fb9f3a\"],[0.8888888888888888,\"#fdca26\"],[1.0,\"#f0f921\"]]},\"colorway\":[\"#636efa\",\"#EF553B\",\"#00cc96\",\"#ab63fa\",\"#FFA15A\",\"#19d3f3\",\"#FF6692\",\"#B6E880\",\"#FF97FF\",\"#FECB52\"],\"font\":{\"color\":\"#2a3f5f\"},\"geo\":{\"bgcolor\":\"white\",\"lakecolor\":\"white\",\"landcolor\":\"#E5ECF6\",\"showlakes\":true,\"showland\":true,\"subunitcolor\":\"white\"},\"hoverlabel\":{\"align\":\"left\"},\"hovermode\":\"closest\",\"mapbox\":{\"style\":\"light\"},\"paper_bgcolor\":\"white\",\"plot_bgcolor\":\"#E5ECF6\",\"polar\":{\"angularaxis\":{\"gridcolor\":\"white\",\"linecolor\":\"white\",\"ticks\":\"\"},\"bgcolor\":\"#E5ECF6\",\"radialaxis\":{\"gridcolor\":\"white\",\"linecolor\":\"white\",\"ticks\":\"\"}},\"scene\":{\"xaxis\":{\"backgroundcolor\":\"#E5ECF6\",\"gridcolor\":\"white\",\"gridwidth\":2,\"linecolor\":\"white\",\"showbackground\":true,\"ticks\":\"\",\"zerolinecolor\":\"white\"},\"yaxis\":{\"backgroundcolor\":\"#E5ECF6\",\"gridcolor\":\"white\",\"gridwidth\":2,\"linecolor\":\"white\",\"showbackground\":true,\"ticks\":\"\",\"zerolinecolor\":\"white\"},\"zaxis\":{\"backgroundcolor\":\"#E5ECF6\",\"gridcolor\":\"white\",\"gridwidth\":2,\"linecolor\":\"white\",\"showbackground\":true,\"ticks\":\"\",\"zerolinecolor\":\"white\"}},\"shapedefaults\":{\"line\":{\"color\":\"#2a3f5f\"}},\"ternary\":{\"aaxis\":{\"gridcolor\":\"white\",\"linecolor\":\"white\",\"ticks\":\"\"},\"baxis\":{\"gridcolor\":\"white\",\"linecolor\":\"white\",\"ticks\":\"\"},\"bgcolor\":\"#E5ECF6\",\"caxis\":{\"gridcolor\":\"white\",\"linecolor\":\"white\",\"ticks\":\"\"}},\"title\":{\"x\":0.05},\"xaxis\":{\"automargin\":true,\"gridcolor\":\"white\",\"linecolor\":\"white\",\"ticks\":\"\",\"title\":{\"standoff\":15},\"zerolinecolor\":\"white\",\"zerolinewidth\":2},\"yaxis\":{\"automargin\":true,\"gridcolor\":\"white\",\"linecolor\":\"white\",\"ticks\":\"\",\"title\":{\"standoff\":15},\"zerolinecolor\":\"white\",\"zerolinewidth\":2}}},\"xaxis\":{\"anchor\":\"y\",\"domain\":[0.0,1.0],\"title\":{\"text\":\"index\"}},\"yaxis\":{\"anchor\":\"x\",\"domain\":[0.0,1.0],\"title\":{\"text\":\"value\"}},\"legend\":{\"title\":{\"text\":\"variable\"},\"tracegroupgap\":0},\"margin\":{\"t\":60},\"barmode\":\"relative\"},                        {\"responsive\": true}                    ).then(function(){\n",
              "                            \n",
              "var gd = document.getElementById('a4ed90bc-1d86-48c3-b05a-d14e0ea7840c');\n",
              "var x = new MutationObserver(function (mutations, observer) {{\n",
              "        var display = window.getComputedStyle(gd).display;\n",
              "        if (!display || display === 'none') {{\n",
              "            console.log([gd, 'removed!']);\n",
              "            Plotly.purge(gd);\n",
              "            observer.disconnect();\n",
              "        }}\n",
              "}});\n",
              "\n",
              "// Listen for the removal of the full notebook cells\n",
              "var notebookContainer = gd.closest('#notebook-container');\n",
              "if (notebookContainer) {{\n",
              "    x.observe(notebookContainer, {childList: true});\n",
              "}}\n",
              "\n",
              "// Listen for the clearing of the current output cell\n",
              "var outputEl = gd.closest('.output');\n",
              "if (outputEl) {{\n",
              "    x.observe(outputEl, {childList: true});\n",
              "}}\n",
              "\n",
              "                        })                };                            </script>        </div>\n",
              "</body>\n",
              "</html>"
            ]
          },
          "metadata": {}
        }
      ]
    },
    {
      "cell_type": "markdown",
      "source": [
        "Domingo? Sim. Geralmente é o dia que eu tiro para relaxar a mente e o corpo e ficar com a família e com meus pensamentos. Geralmente faço churrasco para a família então o som fica ligado praticamente o dia todo!\n",
        "\n",
        "Claro que no sabado e na sexta eu também escuto bastante música, mas geralmente nestes dias eu estou trabalhando ou jogando futebol, então diminui a quantidade de música ouvida quando comparamos com o domingo.\n",
        "\n",
        "Estranho que nos dias da semana eu não escuto muita música? Claro que escuto, mas durante o trabalho, na maioria das vezes, eu dou preferência para ouvir música de algumas rádias rocks, por isso que a quantidade de música ouvida no Spotify é menor!"
      ],
      "metadata": {
        "id": "j_EjXJ_lu_Ic"
      },
      "id": "j_EjXJ_lu_Ic"
    },
    {
      "cell_type": "markdown",
      "source": [
        "### E qual foi o mês em que eu mais ouvi música no Spotify?"
      ],
      "metadata": {
        "id": "lXFrgHfpv7ZU"
      },
      "id": "lXFrgHfpv7ZU"
    },
    {
      "cell_type": "code",
      "source": [
        "# gráfico mês que mais ouvi música\n",
        "data2021[\"mes\"].value_counts().plot(kind=\"bar\")"
      ],
      "metadata": {
        "colab": {
          "base_uri": "https://localhost:8080/",
          "height": 542
        },
        "id": "8zL0FGmehMo4",
        "outputId": "45dba1a2-8ff0-4cba-afe4-352a098a4109"
      },
      "id": "8zL0FGmehMo4",
      "execution_count": 10,
      "outputs": [
        {
          "output_type": "display_data",
          "data": {
            "text/html": [
              "<html>\n",
              "<head><meta charset=\"utf-8\" /></head>\n",
              "<body>\n",
              "    <div>            <script src=\"https://cdnjs.cloudflare.com/ajax/libs/mathjax/2.7.5/MathJax.js?config=TeX-AMS-MML_SVG\"></script><script type=\"text/javascript\">if (window.MathJax) {MathJax.Hub.Config({SVG: {font: \"STIX-Web\"}});}</script>                <script type=\"text/javascript\">window.PlotlyConfig = {MathJaxConfig: 'local'};</script>\n",
              "        <script src=\"https://cdn.plot.ly/plotly-2.8.3.min.js\"></script>                <div id=\"c967d486-cf27-4482-811d-80f15b289a67\" class=\"plotly-graph-div\" style=\"height:525px; width:100%;\"></div>            <script type=\"text/javascript\">                                    window.PLOTLYENV=window.PLOTLYENV || {};                                    if (document.getElementById(\"c967d486-cf27-4482-811d-80f15b289a67\")) {                    Plotly.newPlot(                        \"c967d486-cf27-4482-811d-80f15b289a67\",                        [{\"alignmentgroup\":\"True\",\"hovertemplate\":\"variable=mes<br>index=%{x}<br>value=%{y}<extra></extra>\",\"legendgroup\":\"mes\",\"marker\":{\"color\":\"#636efa\",\"pattern\":{\"shape\":\"\"}},\"name\":\"mes\",\"offsetgroup\":\"mes\",\"orientation\":\"v\",\"showlegend\":true,\"textposition\":\"auto\",\"x\":[\"December\",\"May\",\"April\",\"November\",\"September\",\"October\",\"February\",\"August\",\"June\",\"March\",\"July\",\"January\"],\"xaxis\":\"x\",\"y\":[1284,1141,1009,962,873,855,764,713,581,560,467,241],\"yaxis\":\"y\",\"type\":\"bar\"}],                        {\"template\":{\"data\":{\"bar\":[{\"error_x\":{\"color\":\"#2a3f5f\"},\"error_y\":{\"color\":\"#2a3f5f\"},\"marker\":{\"line\":{\"color\":\"#E5ECF6\",\"width\":0.5},\"pattern\":{\"fillmode\":\"overlay\",\"size\":10,\"solidity\":0.2}},\"type\":\"bar\"}],\"barpolar\":[{\"marker\":{\"line\":{\"color\":\"#E5ECF6\",\"width\":0.5},\"pattern\":{\"fillmode\":\"overlay\",\"size\":10,\"solidity\":0.2}},\"type\":\"barpolar\"}],\"carpet\":[{\"aaxis\":{\"endlinecolor\":\"#2a3f5f\",\"gridcolor\":\"white\",\"linecolor\":\"white\",\"minorgridcolor\":\"white\",\"startlinecolor\":\"#2a3f5f\"},\"baxis\":{\"endlinecolor\":\"#2a3f5f\",\"gridcolor\":\"white\",\"linecolor\":\"white\",\"minorgridcolor\":\"white\",\"startlinecolor\":\"#2a3f5f\"},\"type\":\"carpet\"}],\"choropleth\":[{\"colorbar\":{\"outlinewidth\":0,\"ticks\":\"\"},\"type\":\"choropleth\"}],\"contour\":[{\"colorbar\":{\"outlinewidth\":0,\"ticks\":\"\"},\"colorscale\":[[0.0,\"#0d0887\"],[0.1111111111111111,\"#46039f\"],[0.2222222222222222,\"#7201a8\"],[0.3333333333333333,\"#9c179e\"],[0.4444444444444444,\"#bd3786\"],[0.5555555555555556,\"#d8576b\"],[0.6666666666666666,\"#ed7953\"],[0.7777777777777778,\"#fb9f3a\"],[0.8888888888888888,\"#fdca26\"],[1.0,\"#f0f921\"]],\"type\":\"contour\"}],\"contourcarpet\":[{\"colorbar\":{\"outlinewidth\":0,\"ticks\":\"\"},\"type\":\"contourcarpet\"}],\"heatmap\":[{\"colorbar\":{\"outlinewidth\":0,\"ticks\":\"\"},\"colorscale\":[[0.0,\"#0d0887\"],[0.1111111111111111,\"#46039f\"],[0.2222222222222222,\"#7201a8\"],[0.3333333333333333,\"#9c179e\"],[0.4444444444444444,\"#bd3786\"],[0.5555555555555556,\"#d8576b\"],[0.6666666666666666,\"#ed7953\"],[0.7777777777777778,\"#fb9f3a\"],[0.8888888888888888,\"#fdca26\"],[1.0,\"#f0f921\"]],\"type\":\"heatmap\"}],\"heatmapgl\":[{\"colorbar\":{\"outlinewidth\":0,\"ticks\":\"\"},\"colorscale\":[[0.0,\"#0d0887\"],[0.1111111111111111,\"#46039f\"],[0.2222222222222222,\"#7201a8\"],[0.3333333333333333,\"#9c179e\"],[0.4444444444444444,\"#bd3786\"],[0.5555555555555556,\"#d8576b\"],[0.6666666666666666,\"#ed7953\"],[0.7777777777777778,\"#fb9f3a\"],[0.8888888888888888,\"#fdca26\"],[1.0,\"#f0f921\"]],\"type\":\"heatmapgl\"}],\"histogram\":[{\"marker\":{\"pattern\":{\"fillmode\":\"overlay\",\"size\":10,\"solidity\":0.2}},\"type\":\"histogram\"}],\"histogram2d\":[{\"colorbar\":{\"outlinewidth\":0,\"ticks\":\"\"},\"colorscale\":[[0.0,\"#0d0887\"],[0.1111111111111111,\"#46039f\"],[0.2222222222222222,\"#7201a8\"],[0.3333333333333333,\"#9c179e\"],[0.4444444444444444,\"#bd3786\"],[0.5555555555555556,\"#d8576b\"],[0.6666666666666666,\"#ed7953\"],[0.7777777777777778,\"#fb9f3a\"],[0.8888888888888888,\"#fdca26\"],[1.0,\"#f0f921\"]],\"type\":\"histogram2d\"}],\"histogram2dcontour\":[{\"colorbar\":{\"outlinewidth\":0,\"ticks\":\"\"},\"colorscale\":[[0.0,\"#0d0887\"],[0.1111111111111111,\"#46039f\"],[0.2222222222222222,\"#7201a8\"],[0.3333333333333333,\"#9c179e\"],[0.4444444444444444,\"#bd3786\"],[0.5555555555555556,\"#d8576b\"],[0.6666666666666666,\"#ed7953\"],[0.7777777777777778,\"#fb9f3a\"],[0.8888888888888888,\"#fdca26\"],[1.0,\"#f0f921\"]],\"type\":\"histogram2dcontour\"}],\"mesh3d\":[{\"colorbar\":{\"outlinewidth\":0,\"ticks\":\"\"},\"type\":\"mesh3d\"}],\"parcoords\":[{\"line\":{\"colorbar\":{\"outlinewidth\":0,\"ticks\":\"\"}},\"type\":\"parcoords\"}],\"pie\":[{\"automargin\":true,\"type\":\"pie\"}],\"scatter\":[{\"marker\":{\"colorbar\":{\"outlinewidth\":0,\"ticks\":\"\"}},\"type\":\"scatter\"}],\"scatter3d\":[{\"line\":{\"colorbar\":{\"outlinewidth\":0,\"ticks\":\"\"}},\"marker\":{\"colorbar\":{\"outlinewidth\":0,\"ticks\":\"\"}},\"type\":\"scatter3d\"}],\"scattercarpet\":[{\"marker\":{\"colorbar\":{\"outlinewidth\":0,\"ticks\":\"\"}},\"type\":\"scattercarpet\"}],\"scattergeo\":[{\"marker\":{\"colorbar\":{\"outlinewidth\":0,\"ticks\":\"\"}},\"type\":\"scattergeo\"}],\"scattergl\":[{\"marker\":{\"colorbar\":{\"outlinewidth\":0,\"ticks\":\"\"}},\"type\":\"scattergl\"}],\"scattermapbox\":[{\"marker\":{\"colorbar\":{\"outlinewidth\":0,\"ticks\":\"\"}},\"type\":\"scattermapbox\"}],\"scatterpolar\":[{\"marker\":{\"colorbar\":{\"outlinewidth\":0,\"ticks\":\"\"}},\"type\":\"scatterpolar\"}],\"scatterpolargl\":[{\"marker\":{\"colorbar\":{\"outlinewidth\":0,\"ticks\":\"\"}},\"type\":\"scatterpolargl\"}],\"scatterternary\":[{\"marker\":{\"colorbar\":{\"outlinewidth\":0,\"ticks\":\"\"}},\"type\":\"scatterternary\"}],\"surface\":[{\"colorbar\":{\"outlinewidth\":0,\"ticks\":\"\"},\"colorscale\":[[0.0,\"#0d0887\"],[0.1111111111111111,\"#46039f\"],[0.2222222222222222,\"#7201a8\"],[0.3333333333333333,\"#9c179e\"],[0.4444444444444444,\"#bd3786\"],[0.5555555555555556,\"#d8576b\"],[0.6666666666666666,\"#ed7953\"],[0.7777777777777778,\"#fb9f3a\"],[0.8888888888888888,\"#fdca26\"],[1.0,\"#f0f921\"]],\"type\":\"surface\"}],\"table\":[{\"cells\":{\"fill\":{\"color\":\"#EBF0F8\"},\"line\":{\"color\":\"white\"}},\"header\":{\"fill\":{\"color\":\"#C8D4E3\"},\"line\":{\"color\":\"white\"}},\"type\":\"table\"}]},\"layout\":{\"annotationdefaults\":{\"arrowcolor\":\"#2a3f5f\",\"arrowhead\":0,\"arrowwidth\":1},\"autotypenumbers\":\"strict\",\"coloraxis\":{\"colorbar\":{\"outlinewidth\":0,\"ticks\":\"\"}},\"colorscale\":{\"diverging\":[[0,\"#8e0152\"],[0.1,\"#c51b7d\"],[0.2,\"#de77ae\"],[0.3,\"#f1b6da\"],[0.4,\"#fde0ef\"],[0.5,\"#f7f7f7\"],[0.6,\"#e6f5d0\"],[0.7,\"#b8e186\"],[0.8,\"#7fbc41\"],[0.9,\"#4d9221\"],[1,\"#276419\"]],\"sequential\":[[0.0,\"#0d0887\"],[0.1111111111111111,\"#46039f\"],[0.2222222222222222,\"#7201a8\"],[0.3333333333333333,\"#9c179e\"],[0.4444444444444444,\"#bd3786\"],[0.5555555555555556,\"#d8576b\"],[0.6666666666666666,\"#ed7953\"],[0.7777777777777778,\"#fb9f3a\"],[0.8888888888888888,\"#fdca26\"],[1.0,\"#f0f921\"]],\"sequentialminus\":[[0.0,\"#0d0887\"],[0.1111111111111111,\"#46039f\"],[0.2222222222222222,\"#7201a8\"],[0.3333333333333333,\"#9c179e\"],[0.4444444444444444,\"#bd3786\"],[0.5555555555555556,\"#d8576b\"],[0.6666666666666666,\"#ed7953\"],[0.7777777777777778,\"#fb9f3a\"],[0.8888888888888888,\"#fdca26\"],[1.0,\"#f0f921\"]]},\"colorway\":[\"#636efa\",\"#EF553B\",\"#00cc96\",\"#ab63fa\",\"#FFA15A\",\"#19d3f3\",\"#FF6692\",\"#B6E880\",\"#FF97FF\",\"#FECB52\"],\"font\":{\"color\":\"#2a3f5f\"},\"geo\":{\"bgcolor\":\"white\",\"lakecolor\":\"white\",\"landcolor\":\"#E5ECF6\",\"showlakes\":true,\"showland\":true,\"subunitcolor\":\"white\"},\"hoverlabel\":{\"align\":\"left\"},\"hovermode\":\"closest\",\"mapbox\":{\"style\":\"light\"},\"paper_bgcolor\":\"white\",\"plot_bgcolor\":\"#E5ECF6\",\"polar\":{\"angularaxis\":{\"gridcolor\":\"white\",\"linecolor\":\"white\",\"ticks\":\"\"},\"bgcolor\":\"#E5ECF6\",\"radialaxis\":{\"gridcolor\":\"white\",\"linecolor\":\"white\",\"ticks\":\"\"}},\"scene\":{\"xaxis\":{\"backgroundcolor\":\"#E5ECF6\",\"gridcolor\":\"white\",\"gridwidth\":2,\"linecolor\":\"white\",\"showbackground\":true,\"ticks\":\"\",\"zerolinecolor\":\"white\"},\"yaxis\":{\"backgroundcolor\":\"#E5ECF6\",\"gridcolor\":\"white\",\"gridwidth\":2,\"linecolor\":\"white\",\"showbackground\":true,\"ticks\":\"\",\"zerolinecolor\":\"white\"},\"zaxis\":{\"backgroundcolor\":\"#E5ECF6\",\"gridcolor\":\"white\",\"gridwidth\":2,\"linecolor\":\"white\",\"showbackground\":true,\"ticks\":\"\",\"zerolinecolor\":\"white\"}},\"shapedefaults\":{\"line\":{\"color\":\"#2a3f5f\"}},\"ternary\":{\"aaxis\":{\"gridcolor\":\"white\",\"linecolor\":\"white\",\"ticks\":\"\"},\"baxis\":{\"gridcolor\":\"white\",\"linecolor\":\"white\",\"ticks\":\"\"},\"bgcolor\":\"#E5ECF6\",\"caxis\":{\"gridcolor\":\"white\",\"linecolor\":\"white\",\"ticks\":\"\"}},\"title\":{\"x\":0.05},\"xaxis\":{\"automargin\":true,\"gridcolor\":\"white\",\"linecolor\":\"white\",\"ticks\":\"\",\"title\":{\"standoff\":15},\"zerolinecolor\":\"white\",\"zerolinewidth\":2},\"yaxis\":{\"automargin\":true,\"gridcolor\":\"white\",\"linecolor\":\"white\",\"ticks\":\"\",\"title\":{\"standoff\":15},\"zerolinecolor\":\"white\",\"zerolinewidth\":2}}},\"xaxis\":{\"anchor\":\"y\",\"domain\":[0.0,1.0],\"title\":{\"text\":\"index\"}},\"yaxis\":{\"anchor\":\"x\",\"domain\":[0.0,1.0],\"title\":{\"text\":\"value\"}},\"legend\":{\"title\":{\"text\":\"variable\"},\"tracegroupgap\":0},\"margin\":{\"t\":60},\"barmode\":\"relative\"},                        {\"responsive\": true}                    ).then(function(){\n",
              "                            \n",
              "var gd = document.getElementById('c967d486-cf27-4482-811d-80f15b289a67');\n",
              "var x = new MutationObserver(function (mutations, observer) {{\n",
              "        var display = window.getComputedStyle(gd).display;\n",
              "        if (!display || display === 'none') {{\n",
              "            console.log([gd, 'removed!']);\n",
              "            Plotly.purge(gd);\n",
              "            observer.disconnect();\n",
              "        }}\n",
              "}});\n",
              "\n",
              "// Listen for the removal of the full notebook cells\n",
              "var notebookContainer = gd.closest('#notebook-container');\n",
              "if (notebookContainer) {{\n",
              "    x.observe(notebookContainer, {childList: true});\n",
              "}}\n",
              "\n",
              "// Listen for the clearing of the current output cell\n",
              "var outputEl = gd.closest('.output');\n",
              "if (outputEl) {{\n",
              "    x.observe(outputEl, {childList: true});\n",
              "}}\n",
              "\n",
              "                        })                };                            </script>        </div>\n",
              "</body>\n",
              "</html>"
            ]
          },
          "metadata": {}
        }
      ]
    },
    {
      "cell_type": "markdown",
      "source": [
        "Aqui temos uma escadinha no gráfico. Bom, dezembro (1284 músicas reproduzidas) geralmente é mês de festa e recesso do trabalho, então é o mês com maior número de músicas ouvidas. Maio geralmente eu estou de férias o que explica estar em 2º lugar. E os demais meses... Ah!, deixa pra lá. O importante é ouvir música e não saber qual é o motivo!!! "
      ],
      "metadata": {
        "id": "sURrHcB-wHIb"
      },
      "id": "sURrHcB-wHIb"
    },
    {
      "cell_type": "markdown",
      "source": [
        "Este notebook teve como objetivo servir de apoio aos meus estudos em Data Analysis/Science. Mesmo na diversão nós aprendemos!\n",
        "\n",
        "### **A música acalma a alma e provavelmente alguém já escreveu uma letra de música sobre algo que você está vivenciando ou já vivenciou!**"
      ],
      "metadata": {
        "id": "mRMJKdUKwiG7"
      },
      "id": "mRMJKdUKwiG7"
    }
  ],
  "metadata": {
    "kernelspec": {
      "display_name": "Python 3 (ipykernel)",
      "language": "python",
      "name": "python3"
    },
    "language_info": {
      "codemirror_mode": {
        "name": "ipython",
        "version": 3
      },
      "file_extension": ".py",
      "mimetype": "text/x-python",
      "name": "python",
      "nbconvert_exporter": "python",
      "pygments_lexer": "ipython3",
      "version": "3.9.13"
    },
    "colab": {
      "provenance": [],
      "collapsed_sections": [],
      "include_colab_link": true
    }
  },
  "nbformat": 4,
  "nbformat_minor": 5
}